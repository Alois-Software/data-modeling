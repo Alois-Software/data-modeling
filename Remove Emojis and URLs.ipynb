{
 "cells": [
  {
   "cell_type": "code",
   "execution_count": 26,
   "id": "f7f12281",
   "metadata": {},
   "outputs": [],
   "source": [
    "import re"
   ]
  },
  {
   "cell_type": "markdown",
   "id": "a5510a0d",
   "metadata": {},
   "source": [
    "### Remove Emojis"
   ]
  },
  {
   "cell_type": "code",
   "execution_count": 27,
   "id": "7e3f4654",
   "metadata": {},
   "outputs": [],
   "source": [
    "emojis = \"🌼 Alzheimers Dementia and Support ‘ADS’ is one of the few charities that continue to offer services under current restrictions. We managed to adapt and support our members by organising our weekly services online 💻. Given that our shop is closed, we need your support more than ever so we can continue fulfilling our mission 🤗.🙏If you would like to support our cause, you can donate here: www.adscharity.com/donate/ 💛💙❤️#AlzheimersDementiaSupport #ADSCharity #charity #donate #HealthCare #GivingTuesday #10YearsOfADS #Fundraising #HelpEachOther\""
   ]
  },
  {
   "cell_type": "code",
   "execution_count": 28,
   "id": "772d2501",
   "metadata": {},
   "outputs": [
    {
     "data": {
      "text/plain": [
       "'🌼 Alzheimers Dementia and Support ‘ADS’ is one of the few charities that continue to offer services under current restrictions. We managed to adapt and support our members by organising our weekly services online 💻. Given that our shop is closed, we need your support more than ever so we can continue fulfilling our mission 🤗.🙏If you would like to support our cause, you can donate here: www.adscharity.com/donate/ 💛💙❤️#AlzheimersDementiaSupport #ADSCharity #charity #donate #HealthCare #GivingTuesday #10YearsOfADS #Fundraising #HelpEachOther'"
      ]
     },
     "execution_count": 28,
     "metadata": {},
     "output_type": "execute_result"
    }
   ],
   "source": [
    "emojis"
   ]
  },
  {
   "cell_type": "code",
   "execution_count": 39,
   "id": "361cf12e",
   "metadata": {},
   "outputs": [],
   "source": [
    "emoji_pattern = re.compile(\"[\"\n",
    "                               u\"\\U0001F600-\\U0001F64F\"  # emoticons\n",
    "                               u\"\\U0001F300-\\U0001F5FF\"  # symbols & pictographs\n",
    "                               u\"\\U0001F680-\\U0001F6FF\"  # transport & map symbols\n",
    "                               u\"\\U0001F1E0-\\U0001F1FF\"  # flags (iOS)\n",
    "                               u\"\\U00002500-\\U00002BEF\"  # chinese char\n",
    "                               u\"\\U00002702-\\U000027B0\"\n",
    "                               u\"\\U00002702-\\U000027B0\"\n",
    "                               u\"\\U000024C2-\\U0001F251\"\n",
    "                               u\"\\U0001f926-\\U0001f937\"\n",
    "                               u\"\\U00010000-\\U0010ffff\"\n",
    "                               u\"\\u2640-\\u2642\"\n",
    "                               u\"\\u2600-\\u2B55\"\n",
    "                               u\"\\u200d\"\n",
    "                               u\"\\u23cf\"\n",
    "                               u\"\\u23e9\"\n",
    "                               u\"\\u231a\"\n",
    "                               u\"\\ufe0f\"  # dingbats\n",
    "                               u\"\\u3030\"\n",
    "                               \"]+\", flags=re.UNICODE)"
   ]
  },
  {
   "cell_type": "code",
   "execution_count": 40,
   "id": "b5bcb432",
   "metadata": {},
   "outputs": [],
   "source": [
    "s = emoji_pattern.sub(r'', emojis)"
   ]
  },
  {
   "cell_type": "code",
   "execution_count": 41,
   "id": "382544c9",
   "metadata": {},
   "outputs": [
    {
     "data": {
      "text/plain": [
       "' Alzheimers Dementia and Support ‘ADS’ is one of the few charities that continue to offer services under current restrictions. We managed to adapt and support our members by organising our weekly services online . Given that our shop is closed, we need your support more than ever so we can continue fulfilling our mission .If you would like to support our cause, you can donate here: www.adscharity.com/donate/ #AlzheimersDementiaSupport #ADSCharity #charity #donate #HealthCare #GivingTuesday #10YearsOfADS #Fundraising #HelpEachOther'"
      ]
     },
     "execution_count": 41,
     "metadata": {},
     "output_type": "execute_result"
    }
   ],
   "source": [
    "s"
   ]
  },
  {
   "cell_type": "markdown",
   "id": "dd73207d",
   "metadata": {},
   "source": [
    "### Remove URLs"
   ]
  },
  {
   "cell_type": "code",
   "execution_count": 32,
   "id": "eda8f2fa",
   "metadata": {},
   "outputs": [],
   "source": [
    "url = 'Slough Borough Council is seeking the views of residents on where they find out what’s on in Slough / finding activities in Slough.Please can you complete this short survey to help us shape this piece of work: https://www.surveymonkey.co.uk/r/8LFNG8YSURVEYMONKEY.CO.UKAsset mapping and Slough Services Guide'"
   ]
  },
  {
   "cell_type": "code",
   "execution_count": 33,
   "id": "80e535ea",
   "metadata": {},
   "outputs": [
    {
     "data": {
      "text/plain": [
       "'Slough Borough Council is seeking the views of residents on where they find out what’s on in Slough / finding activities in Slough.Please can you complete this short survey to help us shape this piece of work: https://www.surveymonkey.co.uk/r/8LFNG8YSURVEYMONKEY.CO.UKAsset mapping and Slough Services Guide'"
      ]
     },
     "execution_count": 33,
     "metadata": {},
     "output_type": "execute_result"
    }
   ],
   "source": [
    "url"
   ]
  },
  {
   "cell_type": "code",
   "execution_count": 44,
   "id": "a17491f6",
   "metadata": {},
   "outputs": [],
   "source": [
    "text = re.sub(r'http\\S+', '', url)"
   ]
  },
  {
   "cell_type": "code",
   "execution_count": 45,
   "id": "18c3c538",
   "metadata": {},
   "outputs": [
    {
     "data": {
      "text/plain": [
       "'Slough Borough Council is seeking the views of residents on where they find out what’s on in Slough / finding activities in Slough.Please can you complete this short survey to help us shape this piece of work:  mapping and Slough Services Guide'"
      ]
     },
     "execution_count": 45,
     "metadata": {},
     "output_type": "execute_result"
    }
   ],
   "source": [
    "text"
   ]
  },
  {
   "cell_type": "code",
   "execution_count": 46,
   "id": "c330c56e",
   "metadata": {},
   "outputs": [],
   "source": [
    "t = re.sub(r'www.\\S+', '', s)"
   ]
  },
  {
   "cell_type": "code",
   "execution_count": 47,
   "id": "68007922",
   "metadata": {},
   "outputs": [
    {
     "data": {
      "text/plain": [
       "' Alzheimers Dementia and Support ‘ADS’ is one of the few charities that continue to offer services under current restrictions. We managed to adapt and support our members by organising our weekly services online . Given that our shop is closed, we need your support more than ever so we can continue fulfilling our mission .If you would like to support our cause, you can donate here:  #AlzheimersDementiaSupport #ADSCharity #charity #donate #HealthCare #GivingTuesday #10YearsOfADS #Fundraising #HelpEachOther'"
      ]
     },
     "execution_count": 47,
     "metadata": {},
     "output_type": "execute_result"
    }
   ],
   "source": [
    "t"
   ]
  },
  {
   "cell_type": "markdown",
   "id": "574f7a0d",
   "metadata": {},
   "source": [
    "### Remove Leading and Trailing Spaces"
   ]
  },
  {
   "cell_type": "code",
   "execution_count": 74,
   "id": "43202409",
   "metadata": {},
   "outputs": [],
   "source": [
    "n = df['text'][514]"
   ]
  },
  {
   "cell_type": "code",
   "execution_count": 75,
   "id": "1cf4a7c1",
   "metadata": {},
   "outputs": [
    {
     "data": {
      "text/plain": [
       "'I needed this today, on Father’s Day.'"
      ]
     },
     "execution_count": 75,
     "metadata": {},
     "output_type": "execute_result"
    }
   ],
   "source": [
    "n"
   ]
  },
  {
   "cell_type": "code",
   "execution_count": 63,
   "id": "f966aaa4",
   "metadata": {},
   "outputs": [],
   "source": [
    "n = n.strip()"
   ]
  },
  {
   "cell_type": "code",
   "execution_count": 64,
   "id": "80a378ef",
   "metadata": {},
   "outputs": [
    {
     "data": {
      "text/plain": [
       "'I needed this today, on Father’s Day'"
      ]
     },
     "execution_count": 64,
     "metadata": {},
     "output_type": "execute_result"
    }
   ],
   "source": [
    "n"
   ]
  },
  {
   "cell_type": "markdown",
   "id": "ca08b9fd",
   "metadata": {},
   "source": [
    "### Removing from CSV"
   ]
  },
  {
   "cell_type": "code",
   "execution_count": 147,
   "id": "2c37cf51",
   "metadata": {},
   "outputs": [],
   "source": [
    "import pandas as pd\n",
    "import numpy as np"
   ]
  },
  {
   "cell_type": "code",
   "execution_count": 148,
   "id": "deb18a41",
   "metadata": {},
   "outputs": [],
   "source": [
    "df = pd.read_csv('social_media_parsed.csv', header=0)"
   ]
  },
  {
   "cell_type": "code",
   "execution_count": 149,
   "id": "1e2b085c",
   "metadata": {},
   "outputs": [
    {
     "data": {
      "text/html": [
       "<div>\n",
       "<style scoped>\n",
       "    .dataframe tbody tr th:only-of-type {\n",
       "        vertical-align: middle;\n",
       "    }\n",
       "\n",
       "    .dataframe tbody tr th {\n",
       "        vertical-align: top;\n",
       "    }\n",
       "\n",
       "    .dataframe thead th {\n",
       "        text-align: right;\n",
       "    }\n",
       "</style>\n",
       "<table border=\"1\" class=\"dataframe\">\n",
       "  <thead>\n",
       "    <tr style=\"text-align: right;\">\n",
       "      <th></th>\n",
       "      <th>text</th>\n",
       "    </tr>\n",
       "  </thead>\n",
       "  <tbody>\n",
       "    <tr>\n",
       "      <th>0</th>\n",
       "      <td>🌼 Alzheimers Dementia and Support ‘ADS’ is one...</td>\n",
       "    </tr>\n",
       "    <tr>\n",
       "      <th>1</th>\n",
       "      <td>Hello Everyone,\\nIt is that time of year again...</td>\n",
       "    </tr>\n",
       "    <tr>\n",
       "      <th>2</th>\n",
       "      <td>Slough Borough Council is seeking the views of...</td>\n",
       "    </tr>\n",
       "    <tr>\n",
       "      <th>3</th>\n",
       "      <td>Not heard from us in a while?\\n\\nWe are not ig...</td>\n",
       "    </tr>\n",
       "    <tr>\n",
       "      <th>4</th>\n",
       "      <td>Less than 3months to go...\\n\\nGet yourself rea...</td>\n",
       "    </tr>\n",
       "    <tr>\n",
       "      <th>...</th>\n",
       "      <td>...</td>\n",
       "    </tr>\n",
       "    <tr>\n",
       "      <th>513</th>\n",
       "      <td>I've been doing a lot of thinking about what i...</td>\n",
       "    </tr>\n",
       "    <tr>\n",
       "      <th>514</th>\n",
       "      <td>I needed this today, on Father’s Day.</td>\n",
       "    </tr>\n",
       "    <tr>\n",
       "      <th>515</th>\n",
       "      <td>Mom just told me she don't feel good. She tell...</td>\n",
       "    </tr>\n",
       "    <tr>\n",
       "      <th>516</th>\n",
       "      <td>Wishing you a rainbow of happiness and good ch...</td>\n",
       "    </tr>\n",
       "    <tr>\n",
       "      <th>517</th>\n",
       "      <td>The Red Arrows flying over Maidenhead after th...</td>\n",
       "    </tr>\n",
       "  </tbody>\n",
       "</table>\n",
       "<p>518 rows × 1 columns</p>\n",
       "</div>"
      ],
      "text/plain": [
       "                                                  text\n",
       "0    🌼 Alzheimers Dementia and Support ‘ADS’ is one...\n",
       "1    Hello Everyone,\\nIt is that time of year again...\n",
       "2    Slough Borough Council is seeking the views of...\n",
       "3    Not heard from us in a while?\\n\\nWe are not ig...\n",
       "4    Less than 3months to go...\\n\\nGet yourself rea...\n",
       "..                                                 ...\n",
       "513  I've been doing a lot of thinking about what i...\n",
       "514              I needed this today, on Father’s Day.\n",
       "515  Mom just told me she don't feel good. She tell...\n",
       "516  Wishing you a rainbow of happiness and good ch...\n",
       "517  The Red Arrows flying over Maidenhead after th...\n",
       "\n",
       "[518 rows x 1 columns]"
      ]
     },
     "execution_count": 149,
     "metadata": {},
     "output_type": "execute_result"
    }
   ],
   "source": [
    "df"
   ]
  },
  {
   "cell_type": "code",
   "execution_count": 150,
   "id": "c094f8e4",
   "metadata": {},
   "outputs": [
    {
     "data": {
      "text/plain": [
       "0      🌼 Alzheimers Dementia and Support ‘ADS’ is one...\n",
       "1      Hello Everyone,\\nIt is that time of year again...\n",
       "2      Slough Borough Council is seeking the views of...\n",
       "3      Not heard from us in a while?\\n\\nWe are not ig...\n",
       "4      Less than 3months to go...\\n\\nGet yourself rea...\n",
       "                             ...                        \n",
       "513    I've been doing a lot of thinking about what i...\n",
       "514                I needed this today, on Father’s Day.\n",
       "515    Mom just told me she don't feel good. She tell...\n",
       "516    Wishing you a rainbow of happiness and good ch...\n",
       "517    The Red Arrows flying over Maidenhead after th...\n",
       "Name: text, Length: 518, dtype: object"
      ]
     },
     "execution_count": 150,
     "metadata": {},
     "output_type": "execute_result"
    }
   ],
   "source": [
    "df['text']"
   ]
  },
  {
   "cell_type": "code",
   "execution_count": 151,
   "id": "26acb7a7",
   "metadata": {},
   "outputs": [
    {
     "data": {
      "text/plain": [
       "'I needed this today, on Father’s Day.'"
      ]
     },
     "execution_count": 151,
     "metadata": {},
     "output_type": "execute_result"
    }
   ],
   "source": [
    "df['text'][514]"
   ]
  },
  {
   "cell_type": "code",
   "execution_count": 152,
   "id": "1fa8776c",
   "metadata": {},
   "outputs": [],
   "source": [
    "size = len(df['text'])"
   ]
  },
  {
   "cell_type": "code",
   "execution_count": 153,
   "id": "aa4c44e5",
   "metadata": {},
   "outputs": [
    {
     "data": {
      "text/plain": [
       "518"
      ]
     },
     "execution_count": 153,
     "metadata": {},
     "output_type": "execute_result"
    }
   ],
   "source": [
    "size"
   ]
  },
  {
   "cell_type": "code",
   "execution_count": 154,
   "id": "ef670843",
   "metadata": {},
   "outputs": [],
   "source": [
    "for i in range(0, size):\n",
    "    s = df['text'][i]\n",
    "    s = emoji_pattern.sub(r'', s)\n",
    "    s = re.sub(r'http\\S+', '', s)\n",
    "    s = re.sub(r'www.\\S+', '', s)\n",
    "    s = s.strip()\n",
    "    df['text'][i] = s"
   ]
  },
  {
   "cell_type": "code",
   "execution_count": 155,
   "id": "7ab7ec07",
   "metadata": {},
   "outputs": [],
   "source": [
    "new_df = df['text']"
   ]
  },
  {
   "cell_type": "code",
   "execution_count": 156,
   "id": "5dde2acd",
   "metadata": {},
   "outputs": [],
   "source": [
    "new_df.replace('', np.nan, inplace=True)"
   ]
  },
  {
   "cell_type": "code",
   "execution_count": 157,
   "id": "83726f91",
   "metadata": {},
   "outputs": [],
   "source": [
    "new_df = df['text'].dropna()"
   ]
  },
  {
   "cell_type": "code",
   "execution_count": 158,
   "id": "9f8a4ac6",
   "metadata": {},
   "outputs": [
    {
     "data": {
      "text/plain": [
       "0      Alzheimers Dementia and Support ‘ADS’ is one o...\n",
       "1      Hello Everyone,\\nIt is that time of year again...\n",
       "2      Slough Borough Council is seeking the views of...\n",
       "3      Not heard from us in a while?\\n\\nWe are not ig...\n",
       "4      Less than 3months to go...\\n\\nGet yourself rea...\n",
       "                             ...                        \n",
       "513    I've been doing a lot of thinking about what i...\n",
       "514                I needed this today, on Father’s Day.\n",
       "515    Mom just told me she don't feel good. She tell...\n",
       "516    Wishing you a rainbow of happiness and good ch...\n",
       "517    The Red Arrows flying over Maidenhead after th...\n",
       "Name: text, Length: 516, dtype: object"
      ]
     },
     "execution_count": 158,
     "metadata": {},
     "output_type": "execute_result"
    }
   ],
   "source": [
    "new_df"
   ]
  },
  {
   "cell_type": "code",
   "execution_count": 159,
   "id": "721f50d7",
   "metadata": {},
   "outputs": [],
   "source": [
    "new_df.to_csv(\"social_media_no_emoji_nor_url.csv\", index=False)"
   ]
  }
 ],
 "metadata": {
  "kernelspec": {
   "display_name": "Python 3",
   "language": "python",
   "name": "python3"
  },
  "language_info": {
   "codemirror_mode": {
    "name": "ipython",
    "version": 3
   },
   "file_extension": ".py",
   "mimetype": "text/x-python",
   "name": "python",
   "nbconvert_exporter": "python",
   "pygments_lexer": "ipython3",
   "version": "3.8.8"
  }
 },
 "nbformat": 4,
 "nbformat_minor": 5
}
