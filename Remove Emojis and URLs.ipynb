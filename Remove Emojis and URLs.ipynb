{
 "cells": [
  {
   "cell_type": "code",
   "execution_count": 26,
   "id": "efc106e3",
   "metadata": {},
   "outputs": [],
   "source": [
    "import re"
   ]
  },
  {
   "cell_type": "markdown",
   "id": "e5bee622",
   "metadata": {},
   "source": [
    "### Remove Emojis"
   ]
  },
  {
   "cell_type": "code",
   "execution_count": 27,
   "id": "37d335b9",
   "metadata": {},
   "outputs": [],
   "source": [
    "emojis = \"🌼 Alzheimers Dementia and Support ‘ADS’ is one of the few charities that continue to offer services under current restrictions. We managed to adapt and support our members by organising our weekly services online 💻. Given that our shop is closed, we need your support more than ever so we can continue fulfilling our mission 🤗.🙏If you would like to support our cause, you can donate here: www.adscharity.com/donate/ 💛💙❤️#AlzheimersDementiaSupport #ADSCharity #charity #donate #HealthCare #GivingTuesday #10YearsOfADS #Fundraising #HelpEachOther\""
   ]
  },
  {
   "cell_type": "code",
   "execution_count": 28,
   "id": "3c684dee",
   "metadata": {},
   "outputs": [
    {
     "data": {
      "text/plain": [
       "'🌼 Alzheimers Dementia and Support ‘ADS’ is one of the few charities that continue to offer services under current restrictions. We managed to adapt and support our members by organising our weekly services online 💻. Given that our shop is closed, we need your support more than ever so we can continue fulfilling our mission 🤗.🙏If you would like to support our cause, you can donate here: www.adscharity.com/donate/ 💛💙❤️#AlzheimersDementiaSupport #ADSCharity #charity #donate #HealthCare #GivingTuesday #10YearsOfADS #Fundraising #HelpEachOther'"
      ]
     },
     "execution_count": 28,
     "metadata": {},
     "output_type": "execute_result"
    }
   ],
   "source": [
    "emojis"
   ]
  },
  {
   "cell_type": "code",
   "execution_count": 39,
   "id": "addf6668",
   "metadata": {},
   "outputs": [],
   "source": [
    "emoji_pattern = re.compile(\"[\"\n",
    "                               u\"\\U0001F600-\\U0001F64F\"  # emoticons\n",
    "                               u\"\\U0001F300-\\U0001F5FF\"  # symbols & pictographs\n",
    "                               u\"\\U0001F680-\\U0001F6FF\"  # transport & map symbols\n",
    "                               u\"\\U0001F1E0-\\U0001F1FF\"  # flags (iOS)\n",
    "                               u\"\\U00002500-\\U00002BEF\"  # chinese char\n",
    "                               u\"\\U00002702-\\U000027B0\"\n",
    "                               u\"\\U00002702-\\U000027B0\"\n",
    "                               u\"\\U000024C2-\\U0001F251\"\n",
    "                               u\"\\U0001f926-\\U0001f937\"\n",
    "                               u\"\\U00010000-\\U0010ffff\"\n",
    "                               u\"\\u2640-\\u2642\"\n",
    "                               u\"\\u2600-\\u2B55\"\n",
    "                               u\"\\u200d\"\n",
    "                               u\"\\u23cf\"\n",
    "                               u\"\\u23e9\"\n",
    "                               u\"\\u231a\"\n",
    "                               u\"\\ufe0f\"  # dingbats\n",
    "                               u\"\\u3030\"\n",
    "                               \"]+\", flags=re.UNICODE)"
   ]
  },
  {
   "cell_type": "code",
   "execution_count": 40,
   "id": "1e5890c4",
   "metadata": {},
   "outputs": [],
   "source": [
    "s = emoji_pattern.sub(r'', emojis)"
   ]
  },
  {
   "cell_type": "code",
   "execution_count": 41,
   "id": "d615a43e",
   "metadata": {},
   "outputs": [
    {
     "data": {
      "text/plain": [
       "' Alzheimers Dementia and Support ‘ADS’ is one of the few charities that continue to offer services under current restrictions. We managed to adapt and support our members by organising our weekly services online . Given that our shop is closed, we need your support more than ever so we can continue fulfilling our mission .If you would like to support our cause, you can donate here: www.adscharity.com/donate/ #AlzheimersDementiaSupport #ADSCharity #charity #donate #HealthCare #GivingTuesday #10YearsOfADS #Fundraising #HelpEachOther'"
      ]
     },
     "execution_count": 41,
     "metadata": {},
     "output_type": "execute_result"
    }
   ],
   "source": [
    "s"
   ]
  },
  {
   "cell_type": "markdown",
   "id": "ed772c3f",
   "metadata": {},
   "source": [
    "### Remove URLs"
   ]
  },
  {
   "cell_type": "code",
   "execution_count": 32,
   "id": "eb8667fc",
   "metadata": {},
   "outputs": [],
   "source": [
    "url = 'Slough Borough Council is seeking the views of residents on where they find out what’s on in Slough / finding activities in Slough.Please can you complete this short survey to help us shape this piece of work: https://www.surveymonkey.co.uk/r/8LFNG8YSURVEYMONKEY.CO.UKAsset mapping and Slough Services Guide'"
   ]
  },
  {
   "cell_type": "code",
   "execution_count": 33,
   "id": "fc37c45c",
   "metadata": {},
   "outputs": [
    {
     "data": {
      "text/plain": [
       "'Slough Borough Council is seeking the views of residents on where they find out what’s on in Slough / finding activities in Slough.Please can you complete this short survey to help us shape this piece of work: https://www.surveymonkey.co.uk/r/8LFNG8YSURVEYMONKEY.CO.UKAsset mapping and Slough Services Guide'"
      ]
     },
     "execution_count": 33,
     "metadata": {},
     "output_type": "execute_result"
    }
   ],
   "source": [
    "url"
   ]
  },
  {
   "cell_type": "code",
   "execution_count": 44,
   "id": "987c338f",
   "metadata": {},
   "outputs": [],
   "source": [
    "text = re.sub(r'http\\S+', '', url)"
   ]
  },
  {
   "cell_type": "code",
   "execution_count": 45,
   "id": "b2872370",
   "metadata": {},
   "outputs": [
    {
     "data": {
      "text/plain": [
       "'Slough Borough Council is seeking the views of residents on where they find out what’s on in Slough / finding activities in Slough.Please can you complete this short survey to help us shape this piece of work:  mapping and Slough Services Guide'"
      ]
     },
     "execution_count": 45,
     "metadata": {},
     "output_type": "execute_result"
    }
   ],
   "source": [
    "text"
   ]
  },
  {
   "cell_type": "code",
   "execution_count": 46,
   "id": "3ab52e48",
   "metadata": {},
   "outputs": [],
   "source": [
    "t = re.sub(r'www.\\S+', '', s)"
   ]
  },
  {
   "cell_type": "code",
   "execution_count": 47,
   "id": "9ba59baf",
   "metadata": {},
   "outputs": [
    {
     "data": {
      "text/plain": [
       "' Alzheimers Dementia and Support ‘ADS’ is one of the few charities that continue to offer services under current restrictions. We managed to adapt and support our members by organising our weekly services online . Given that our shop is closed, we need your support more than ever so we can continue fulfilling our mission .If you would like to support our cause, you can donate here:  #AlzheimersDementiaSupport #ADSCharity #charity #donate #HealthCare #GivingTuesday #10YearsOfADS #Fundraising #HelpEachOther'"
      ]
     },
     "execution_count": 47,
     "metadata": {},
     "output_type": "execute_result"
    }
   ],
   "source": [
    "t"
   ]
  },
  {
   "cell_type": "code",
   "execution_count": null,
   "id": "7bf76367",
   "metadata": {},
   "outputs": [],
   "source": []
  }
 ],
 "metadata": {
  "kernelspec": {
   "display_name": "Python 3",
   "language": "python",
   "name": "python3"
  },
  "language_info": {
   "codemirror_mode": {
    "name": "ipython",
    "version": 3
   },
   "file_extension": ".py",
   "mimetype": "text/x-python",
   "name": "python",
   "nbconvert_exporter": "python",
   "pygments_lexer": "ipython3",
   "version": "3.8.8"
  }
 },
 "nbformat": 4,
 "nbformat_minor": 5
}
