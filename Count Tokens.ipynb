{
 "cells": [
  {
   "cell_type": "code",
   "execution_count": 1,
   "id": "ce316599",
   "metadata": {},
   "outputs": [],
   "source": [
    "import pandas as pd"
   ]
  },
  {
   "cell_type": "code",
   "execution_count": 2,
   "id": "8fb092f6",
   "metadata": {},
   "outputs": [],
   "source": [
    "df = pd.read_csv('social_media_no_emoji_nor_url.csv', header=0)"
   ]
  },
  {
   "cell_type": "code",
   "execution_count": 3,
   "id": "a90dee23",
   "metadata": {},
   "outputs": [
    {
     "data": {
      "text/html": [
       "<div>\n",
       "<style scoped>\n",
       "    .dataframe tbody tr th:only-of-type {\n",
       "        vertical-align: middle;\n",
       "    }\n",
       "\n",
       "    .dataframe tbody tr th {\n",
       "        vertical-align: top;\n",
       "    }\n",
       "\n",
       "    .dataframe thead th {\n",
       "        text-align: right;\n",
       "    }\n",
       "</style>\n",
       "<table border=\"1\" class=\"dataframe\">\n",
       "  <thead>\n",
       "    <tr style=\"text-align: right;\">\n",
       "      <th></th>\n",
       "      <th>text</th>\n",
       "    </tr>\n",
       "  </thead>\n",
       "  <tbody>\n",
       "    <tr>\n",
       "      <th>0</th>\n",
       "      <td>Alzheimers Dementia and Support ‘ADS’ is one o...</td>\n",
       "    </tr>\n",
       "    <tr>\n",
       "      <th>1</th>\n",
       "      <td>Hello Everyone,\\nIt is that time of year again...</td>\n",
       "    </tr>\n",
       "    <tr>\n",
       "      <th>2</th>\n",
       "      <td>Slough Borough Council is seeking the views of...</td>\n",
       "    </tr>\n",
       "    <tr>\n",
       "      <th>3</th>\n",
       "      <td>Not heard from us in a while?\\n\\nWe are not ig...</td>\n",
       "    </tr>\n",
       "    <tr>\n",
       "      <th>4</th>\n",
       "      <td>Less than 3months to go...\\n\\nGet yourself rea...</td>\n",
       "    </tr>\n",
       "    <tr>\n",
       "      <th>...</th>\n",
       "      <td>...</td>\n",
       "    </tr>\n",
       "    <tr>\n",
       "      <th>511</th>\n",
       "      <td>I've been doing a lot of thinking about what i...</td>\n",
       "    </tr>\n",
       "    <tr>\n",
       "      <th>512</th>\n",
       "      <td>I needed this today, on Father’s Day.</td>\n",
       "    </tr>\n",
       "    <tr>\n",
       "      <th>513</th>\n",
       "      <td>Mom just told me she don't feel good. She tell...</td>\n",
       "    </tr>\n",
       "    <tr>\n",
       "      <th>514</th>\n",
       "      <td>Wishing you a rainbow of happiness and good ch...</td>\n",
       "    </tr>\n",
       "    <tr>\n",
       "      <th>515</th>\n",
       "      <td>The Red Arrows flying over Maidenhead after th...</td>\n",
       "    </tr>\n",
       "  </tbody>\n",
       "</table>\n",
       "<p>516 rows × 1 columns</p>\n",
       "</div>"
      ],
      "text/plain": [
       "                                                  text\n",
       "0    Alzheimers Dementia and Support ‘ADS’ is one o...\n",
       "1    Hello Everyone,\\nIt is that time of year again...\n",
       "2    Slough Borough Council is seeking the views of...\n",
       "3    Not heard from us in a while?\\n\\nWe are not ig...\n",
       "4    Less than 3months to go...\\n\\nGet yourself rea...\n",
       "..                                                 ...\n",
       "511  I've been doing a lot of thinking about what i...\n",
       "512              I needed this today, on Father’s Day.\n",
       "513  Mom just told me she don't feel good. She tell...\n",
       "514  Wishing you a rainbow of happiness and good ch...\n",
       "515  The Red Arrows flying over Maidenhead after th...\n",
       "\n",
       "[516 rows x 1 columns]"
      ]
     },
     "execution_count": 3,
     "metadata": {},
     "output_type": "execute_result"
    }
   ],
   "source": [
    "df"
   ]
  },
  {
   "cell_type": "code",
   "execution_count": 4,
   "id": "f48faa3b",
   "metadata": {},
   "outputs": [
    {
     "data": {
      "text/plain": [
       "0      Alzheimers Dementia and Support ‘ADS’ is one o...\n",
       "1      Hello Everyone,\\nIt is that time of year again...\n",
       "2      Slough Borough Council is seeking the views of...\n",
       "3      Not heard from us in a while?\\n\\nWe are not ig...\n",
       "4      Less than 3months to go...\\n\\nGet yourself rea...\n",
       "                             ...                        \n",
       "511    I've been doing a lot of thinking about what i...\n",
       "512                I needed this today, on Father’s Day.\n",
       "513    Mom just told me she don't feel good. She tell...\n",
       "514    Wishing you a rainbow of happiness and good ch...\n",
       "515    The Red Arrows flying over Maidenhead after th...\n",
       "Name: text, Length: 516, dtype: object"
      ]
     },
     "execution_count": 4,
     "metadata": {},
     "output_type": "execute_result"
    }
   ],
   "source": [
    "df['text']"
   ]
  },
  {
   "cell_type": "code",
   "execution_count": 5,
   "id": "6452233d",
   "metadata": {},
   "outputs": [],
   "source": [
    "import numpy as np\n",
    "import pandas as pd\n",
    "from sklearn.model_selection import train_test_split\n",
    "from sklearn.linear_model import LogisticRegression\n",
    "from sklearn.model_selection import GridSearchCV\n",
    "from sklearn.model_selection import cross_val_score\n",
    "import torch\n",
    "import transformers as ppb\n",
    "import warnings\n",
    "warnings.filterwarnings('ignore')"
   ]
  },
  {
   "cell_type": "code",
   "execution_count": 6,
   "id": "c2ce48fe",
   "metadata": {},
   "outputs": [
    {
     "name": "stderr",
     "output_type": "stream",
     "text": [
      "Some weights of the model checkpoint at distilbert-base-uncased were not used when initializing DistilBertModel: ['vocab_transform.bias', 'vocab_layer_norm.weight', 'vocab_projector.bias', 'vocab_layer_norm.bias', 'vocab_transform.weight', 'vocab_projector.weight']\n",
      "- This IS expected if you are initializing DistilBertModel from the checkpoint of a model trained on another task or with another architecture (e.g. initializing a BertForSequenceClassification model from a BertForPreTraining model).\n",
      "- This IS NOT expected if you are initializing DistilBertModel from the checkpoint of a model that you expect to be exactly identical (initializing a BertForSequenceClassification model from a BertForSequenceClassification model).\n"
     ]
    }
   ],
   "source": [
    "# For DistilBERT:\n",
    "model_class, tokenizer_class, pretrained_weights = (ppb.DistilBertModel, ppb.DistilBertTokenizer, 'distilbert-base-uncased')\n",
    "\n",
    "## Want BERT instead of distilBERT? Uncomment the following line:\n",
    "#model_class, tokenizer_class, pretrained_weights = (ppb.BertModel, ppb.BertTokenizer, 'bert-base-uncased')\n",
    "\n",
    "# Load pretrained model/tokenizer\n",
    "tokenizer = tokenizer_class.from_pretrained(pretrained_weights)\n",
    "model = model_class.from_pretrained(pretrained_weights)"
   ]
  },
  {
   "cell_type": "code",
   "execution_count": 7,
   "id": "48241266",
   "metadata": {},
   "outputs": [],
   "source": [
    "batch_1 = df['text']"
   ]
  },
  {
   "cell_type": "code",
   "execution_count": 8,
   "id": "e74c474e",
   "metadata": {},
   "outputs": [
    {
     "data": {
      "text/plain": [
       "0      Alzheimers Dementia and Support ‘ADS’ is one o...\n",
       "1      Hello Everyone,\\nIt is that time of year again...\n",
       "2      Slough Borough Council is seeking the views of...\n",
       "3      Not heard from us in a while?\\n\\nWe are not ig...\n",
       "4      Less than 3months to go...\\n\\nGet yourself rea...\n",
       "                             ...                        \n",
       "511    I've been doing a lot of thinking about what i...\n",
       "512                I needed this today, on Father’s Day.\n",
       "513    Mom just told me she don't feel good. She tell...\n",
       "514    Wishing you a rainbow of happiness and good ch...\n",
       "515    The Red Arrows flying over Maidenhead after th...\n",
       "Name: text, Length: 516, dtype: object"
      ]
     },
     "execution_count": 8,
     "metadata": {},
     "output_type": "execute_result"
    }
   ],
   "source": [
    "batch_1"
   ]
  },
  {
   "cell_type": "code",
   "execution_count": 9,
   "id": "fed6bb21",
   "metadata": {},
   "outputs": [],
   "source": [
    "num = tokenizer.encode(batch_1[0], add_special_tokens=True)"
   ]
  },
  {
   "cell_type": "code",
   "execution_count": 10,
   "id": "081d0233",
   "metadata": {},
   "outputs": [
    {
     "data": {
      "text/plain": [
       "[101,\n",
       " 21901,\n",
       " 2015,\n",
       " 28767,\n",
       " 1998,\n",
       " 2490,\n",
       " 1520,\n",
       " 14997,\n",
       " 1521,\n",
       " 2003,\n",
       " 2028,\n",
       " 1997,\n",
       " 1996,\n",
       " 2261,\n",
       " 15430,\n",
       " 2008,\n",
       " 3613,\n",
       " 2000,\n",
       " 3749,\n",
       " 2578,\n",
       " 2104,\n",
       " 2783,\n",
       " 9259,\n",
       " 1012,\n",
       " 2057,\n",
       " 3266,\n",
       " 2000,\n",
       " 15581,\n",
       " 1998,\n",
       " 2490,\n",
       " 2256,\n",
       " 2372,\n",
       " 2011,\n",
       " 21317,\n",
       " 2256,\n",
       " 4882,\n",
       " 2578,\n",
       " 3784,\n",
       " 1012,\n",
       " 2445,\n",
       " 2008,\n",
       " 2256,\n",
       " 4497,\n",
       " 2003,\n",
       " 2701,\n",
       " 1010,\n",
       " 2057,\n",
       " 2342,\n",
       " 2115,\n",
       " 2490,\n",
       " 2062,\n",
       " 2084,\n",
       " 2412,\n",
       " 2061,\n",
       " 2057,\n",
       " 2064,\n",
       " 3613,\n",
       " 21570,\n",
       " 2256,\n",
       " 3260,\n",
       " 1012,\n",
       " 2065,\n",
       " 2017,\n",
       " 2052,\n",
       " 2066,\n",
       " 2000,\n",
       " 2490,\n",
       " 2256,\n",
       " 3426,\n",
       " 1010,\n",
       " 2017,\n",
       " 2064,\n",
       " 21357,\n",
       " 2182,\n",
       " 1024,\n",
       " 1001,\n",
       " 21901,\n",
       " 16150,\n",
       " 13665,\n",
       " 7951,\n",
       " 6279,\n",
       " 6442,\n",
       " 1001,\n",
       " 14997,\n",
       " 7507,\n",
       " 15780,\n",
       " 1001,\n",
       " 5952,\n",
       " 1001,\n",
       " 21357,\n",
       " 1001,\n",
       " 9871,\n",
       " 1001,\n",
       " 3228,\n",
       " 8525,\n",
       " 2229,\n",
       " 10259,\n",
       " 1001,\n",
       " 2184,\n",
       " 29100,\n",
       " 6499,\n",
       " 7011,\n",
       " 5104,\n",
       " 1001,\n",
       " 15524,\n",
       " 1001,\n",
       " 2393,\n",
       " 5243,\n",
       " 9905,\n",
       " 12399,\n",
       " 102]"
      ]
     },
     "execution_count": 10,
     "metadata": {},
     "output_type": "execute_result"
    }
   ],
   "source": [
    "num"
   ]
  },
  {
   "cell_type": "code",
   "execution_count": 11,
   "id": "b40ecfef",
   "metadata": {},
   "outputs": [
    {
     "data": {
      "text/plain": [
       "111"
      ]
     },
     "execution_count": 11,
     "metadata": {},
     "output_type": "execute_result"
    }
   ],
   "source": [
    "len(num)"
   ]
  },
  {
   "cell_type": "code",
   "execution_count": 13,
   "id": "0a2fac89",
   "metadata": {},
   "outputs": [],
   "source": [
    "len_list = []"
   ]
  },
  {
   "cell_type": "code",
   "execution_count": 14,
   "id": "547c5c75",
   "metadata": {},
   "outputs": [],
   "source": [
    "for i in range(0, len(batch_1)):\n",
    "    len_list.append(len(tokenizer.encode(batch_1[i], add_special_tokens=True)))"
   ]
  },
  {
   "cell_type": "code",
   "execution_count": 15,
   "id": "c9aa2d26",
   "metadata": {},
   "outputs": [
    {
     "data": {
      "text/plain": [
       "[111,\n",
       " 70,\n",
       " 61,\n",
       " 86,\n",
       " 48,\n",
       " 143,\n",
       " 63,\n",
       " 48,\n",
       " 47,\n",
       " 69,\n",
       " 22,\n",
       " 53,\n",
       " 38,\n",
       " 44,\n",
       " 18,\n",
       " 65,\n",
       " 70,\n",
       " 79,\n",
       " 77,\n",
       " 83,\n",
       " 74,\n",
       " 106,\n",
       " 9,\n",
       " 13,\n",
       " 37,\n",
       " 21,\n",
       " 36,\n",
       " 58,\n",
       " 31,\n",
       " 33,\n",
       " 167,\n",
       " 70,\n",
       " 53,\n",
       " 44,\n",
       " 25,\n",
       " 99,\n",
       " 48,\n",
       " 54,\n",
       " 181,\n",
       " 52,\n",
       " 123,\n",
       " 118,\n",
       " 92,\n",
       " 116,\n",
       " 119,\n",
       " 105,\n",
       " 115,\n",
       " 148,\n",
       " 106,\n",
       " 121,\n",
       " 110,\n",
       " 53,\n",
       " 25,\n",
       " 60,\n",
       " 27,\n",
       " 433,\n",
       " 85,\n",
       " 21,\n",
       " 30,\n",
       " 98,\n",
       " 70,\n",
       " 79,\n",
       " 43,\n",
       " 44,\n",
       " 65,\n",
       " 449,\n",
       " 44,\n",
       " 41,\n",
       " 21,\n",
       " 54,\n",
       " 71,\n",
       " 54,\n",
       " 20,\n",
       " 121,\n",
       " 300,\n",
       " 15,\n",
       " 324,\n",
       " 25,\n",
       " 560,\n",
       " 357,\n",
       " 37,\n",
       " 19,\n",
       " 64,\n",
       " 101,\n",
       " 90,\n",
       " 59,\n",
       " 59,\n",
       " 31,\n",
       " 59,\n",
       " 49,\n",
       " 97,\n",
       " 91,\n",
       " 32,\n",
       " 33,\n",
       " 61,\n",
       " 88,\n",
       " 65,\n",
       " 27,\n",
       " 72,\n",
       " 57,\n",
       " 50,\n",
       " 114,\n",
       " 97,\n",
       " 111,\n",
       " 52,\n",
       " 47,\n",
       " 51,\n",
       " 56,\n",
       " 139,\n",
       " 64,\n",
       " 77,\n",
       " 23,\n",
       " 27,\n",
       " 25,\n",
       " 18,\n",
       " 24,\n",
       " 29,\n",
       " 89,\n",
       " 25,\n",
       " 80,\n",
       " 126,\n",
       " 70,\n",
       " 63,\n",
       " 70,\n",
       " 85,\n",
       " 20,\n",
       " 125,\n",
       " 71,\n",
       " 88,\n",
       " 94,\n",
       " 85,\n",
       " 138,\n",
       " 159,\n",
       " 61,\n",
       " 84,\n",
       " 9,\n",
       " 47,\n",
       " 472,\n",
       " 339,\n",
       " 562,\n",
       " 236,\n",
       " 192,\n",
       " 21,\n",
       " 20,\n",
       " 71,\n",
       " 39,\n",
       " 41,\n",
       " 21,\n",
       " 40,\n",
       " 159,\n",
       " 16,\n",
       " 7,\n",
       " 77,\n",
       " 108,\n",
       " 54,\n",
       " 47,\n",
       " 29,\n",
       " 66,\n",
       " 65,\n",
       " 158,\n",
       " 14,\n",
       " 35,\n",
       " 52,\n",
       " 131,\n",
       " 32,\n",
       " 473,\n",
       " 178,\n",
       " 641,\n",
       " 64,\n",
       " 34,\n",
       " 118,\n",
       " 105,\n",
       " 41,\n",
       " 133,\n",
       " 79,\n",
       " 206,\n",
       " 112,\n",
       " 113,\n",
       " 23,\n",
       " 80,\n",
       " 63,\n",
       " 6,\n",
       " 14,\n",
       " 128,\n",
       " 54,\n",
       " 64,\n",
       " 95,\n",
       " 53,\n",
       " 33,\n",
       " 53,\n",
       " 34,\n",
       " 21,\n",
       " 245,\n",
       " 7,\n",
       " 83,\n",
       " 161,\n",
       " 107,\n",
       " 100,\n",
       " 110,\n",
       " 398,\n",
       " 114,\n",
       " 136,\n",
       " 52,\n",
       " 47,\n",
       " 25,\n",
       " 11,\n",
       " 74,\n",
       " 55,\n",
       " 89,\n",
       " 94,\n",
       " 47,\n",
       " 72,\n",
       " 137,\n",
       " 88,\n",
       " 467,\n",
       " 34,\n",
       " 57,\n",
       " 20,\n",
       " 102,\n",
       " 11,\n",
       " 140,\n",
       " 27,\n",
       " 14,\n",
       " 73,\n",
       " 23,\n",
       " 70,\n",
       " 26,\n",
       " 70,\n",
       " 70,\n",
       " 30,\n",
       " 70,\n",
       " 127,\n",
       " 52,\n",
       " 27,\n",
       " 29,\n",
       " 89,\n",
       " 56,\n",
       " 45,\n",
       " 70,\n",
       " 148,\n",
       " 196,\n",
       " 73,\n",
       " 64,\n",
       " 55,\n",
       " 127,\n",
       " 66,\n",
       " 122,\n",
       " 89,\n",
       " 115,\n",
       " 58,\n",
       " 94,\n",
       " 116,\n",
       " 165,\n",
       " 146,\n",
       " 97,\n",
       " 88,\n",
       " 67,\n",
       " 122,\n",
       " 122,\n",
       " 102,\n",
       " 88,\n",
       " 69,\n",
       " 12,\n",
       " 63,\n",
       " 16,\n",
       " 139,\n",
       " 53,\n",
       " 14,\n",
       " 67,\n",
       " 94,\n",
       " 37,\n",
       " 40,\n",
       " 66,\n",
       " 82,\n",
       " 36,\n",
       " 141,\n",
       " 115,\n",
       " 29,\n",
       " 102,\n",
       " 161,\n",
       " 131,\n",
       " 128,\n",
       " 136,\n",
       " 145,\n",
       " 140,\n",
       " 170,\n",
       " 74,\n",
       " 63,\n",
       " 50,\n",
       " 87,\n",
       " 14,\n",
       " 59,\n",
       " 24,\n",
       " 410,\n",
       " 63,\n",
       " 20,\n",
       " 23,\n",
       " 38,\n",
       " 25,\n",
       " 73,\n",
       " 28,\n",
       " 269,\n",
       " 43,\n",
       " 37,\n",
       " 10,\n",
       " 50,\n",
       " 65,\n",
       " 29,\n",
       " 66,\n",
       " 53,\n",
       " 42,\n",
       " 61,\n",
       " 83,\n",
       " 67,\n",
       " 48,\n",
       " 28,\n",
       " 43,\n",
       " 49,\n",
       " 28,\n",
       " 52,\n",
       " 86,\n",
       " 90,\n",
       " 64,\n",
       " 72,\n",
       " 18,\n",
       " 98,\n",
       " 98,\n",
       " 48,\n",
       " 36,\n",
       " 112,\n",
       " 55,\n",
       " 57,\n",
       " 55,\n",
       " 69,\n",
       " 97,\n",
       " 64,\n",
       " 56,\n",
       " 15,\n",
       " 126,\n",
       " 21,\n",
       " 97,\n",
       " 66,\n",
       " 34,\n",
       " 37,\n",
       " 152,\n",
       " 111,\n",
       " 177,\n",
       " 96,\n",
       " 135,\n",
       " 109,\n",
       " 107,\n",
       " 112,\n",
       " 143,\n",
       " 44,\n",
       " 56,\n",
       " 51,\n",
       " 23,\n",
       " 97,\n",
       " 28,\n",
       " 40,\n",
       " 57,\n",
       " 19,\n",
       " 82,\n",
       " 53,\n",
       " 289,\n",
       " 261,\n",
       " 33,\n",
       " 189,\n",
       " 151,\n",
       " 16,\n",
       " 66,\n",
       " 73,\n",
       " 82,\n",
       " 25,\n",
       " 130,\n",
       " 105,\n",
       " 82,\n",
       " 50,\n",
       " 49,\n",
       " 101,\n",
       " 88,\n",
       " 48,\n",
       " 71,\n",
       " 52,\n",
       " 66,\n",
       " 58,\n",
       " 62,\n",
       " 13,\n",
       " 39,\n",
       " 57,\n",
       " 119,\n",
       " 147,\n",
       " 13,\n",
       " 12,\n",
       " 7,\n",
       " 11,\n",
       " 66,\n",
       " 74,\n",
       " 81,\n",
       " 80,\n",
       " 138,\n",
       " 62,\n",
       " 123,\n",
       " 114,\n",
       " 72,\n",
       " 13,\n",
       " 75,\n",
       " 63,\n",
       " 92,\n",
       " 137,\n",
       " 108,\n",
       " 149,\n",
       " 342,\n",
       " 250,\n",
       " 110,\n",
       " 116,\n",
       " 142,\n",
       " 97,\n",
       " 151,\n",
       " 54,\n",
       " 243,\n",
       " 55,\n",
       " 76,\n",
       " 43,\n",
       " 69,\n",
       " 63,\n",
       " 71,\n",
       " 37,\n",
       " 53,\n",
       " 7,\n",
       " 69,\n",
       " 28,\n",
       " 61,\n",
       " 79,\n",
       " 114,\n",
       " 87,\n",
       " 91,\n",
       " 50,\n",
       " 117,\n",
       " 21,\n",
       " 139,\n",
       " 81,\n",
       " 115,\n",
       " 176,\n",
       " 161,\n",
       " 31,\n",
       " 11,\n",
       " 34,\n",
       " 70,\n",
       " 145,\n",
       " 64,\n",
       " 30,\n",
       " 13,\n",
       " 15,\n",
       " 20,\n",
       " 303,\n",
       " 25,\n",
       " 228,\n",
       " 96,\n",
       " 58,\n",
       " 28,\n",
       " 55,\n",
       " 39,\n",
       " 12,\n",
       " 93,\n",
       " 59,\n",
       " 29,\n",
       " 134,\n",
       " 19,\n",
       " 111,\n",
       " 66,\n",
       " 118,\n",
       " 59,\n",
       " 99,\n",
       " 103,\n",
       " 41,\n",
       " 78,\n",
       " 77,\n",
       " 131,\n",
       " 40,\n",
       " 23,\n",
       " 86,\n",
       " 61,\n",
       " 25,\n",
       " 34,\n",
       " 96,\n",
       " 19,\n",
       " 59,\n",
       " 21,\n",
       " 62,\n",
       " 14,\n",
       " 20,\n",
       " 95,\n",
       " 22,\n",
       " 20,\n",
       " 59,\n",
       " 44,\n",
       " 50,\n",
       " 67,\n",
       " 236,\n",
       " 105,\n",
       " 51,\n",
       " 28,\n",
       " 104,\n",
       " 92,\n",
       " 44,\n",
       " 207,\n",
       " 58,\n",
       " 96,\n",
       " 62,\n",
       " 384,\n",
       " 84,\n",
       " 13,\n",
       " 149,\n",
       " 56,\n",
       " 19]"
      ]
     },
     "execution_count": 15,
     "metadata": {},
     "output_type": "execute_result"
    }
   ],
   "source": [
    "len_list"
   ]
  },
  {
   "cell_type": "code",
   "execution_count": 23,
   "id": "7ea31cac",
   "metadata": {},
   "outputs": [],
   "source": [
    "import plotly.express as px\n",
    "import numpy as np"
   ]
  },
  {
   "cell_type": "code",
   "execution_count": 76,
   "id": "81895048",
   "metadata": {},
   "outputs": [],
   "source": [
    "df = len_list"
   ]
  },
  {
   "cell_type": "code",
   "execution_count": 77,
   "id": "e9cc9c0a",
   "metadata": {},
   "outputs": [
    {
     "data": {
      "text/plain": [
       "[111,\n",
       " 70,\n",
       " 61,\n",
       " 86,\n",
       " 48,\n",
       " 143,\n",
       " 63,\n",
       " 48,\n",
       " 47,\n",
       " 69,\n",
       " 22,\n",
       " 53,\n",
       " 38,\n",
       " 44,\n",
       " 18,\n",
       " 65,\n",
       " 70,\n",
       " 79,\n",
       " 77,\n",
       " 83,\n",
       " 74,\n",
       " 106,\n",
       " 9,\n",
       " 13,\n",
       " 37,\n",
       " 21,\n",
       " 36,\n",
       " 58,\n",
       " 31,\n",
       " 33,\n",
       " 167,\n",
       " 70,\n",
       " 53,\n",
       " 44,\n",
       " 25,\n",
       " 99,\n",
       " 48,\n",
       " 54,\n",
       " 181,\n",
       " 52,\n",
       " 123,\n",
       " 118,\n",
       " 92,\n",
       " 116,\n",
       " 119,\n",
       " 105,\n",
       " 115,\n",
       " 148,\n",
       " 106,\n",
       " 121,\n",
       " 110,\n",
       " 53,\n",
       " 25,\n",
       " 60,\n",
       " 27,\n",
       " 433,\n",
       " 85,\n",
       " 21,\n",
       " 30,\n",
       " 98,\n",
       " 70,\n",
       " 79,\n",
       " 43,\n",
       " 44,\n",
       " 65,\n",
       " 449,\n",
       " 44,\n",
       " 41,\n",
       " 21,\n",
       " 54,\n",
       " 71,\n",
       " 54,\n",
       " 20,\n",
       " 121,\n",
       " 300,\n",
       " 15,\n",
       " 324,\n",
       " 25,\n",
       " 560,\n",
       " 357,\n",
       " 37,\n",
       " 19,\n",
       " 64,\n",
       " 101,\n",
       " 90,\n",
       " 59,\n",
       " 59,\n",
       " 31,\n",
       " 59,\n",
       " 49,\n",
       " 97,\n",
       " 91,\n",
       " 32,\n",
       " 33,\n",
       " 61,\n",
       " 88,\n",
       " 65,\n",
       " 27,\n",
       " 72,\n",
       " 57,\n",
       " 50,\n",
       " 114,\n",
       " 97,\n",
       " 111,\n",
       " 52,\n",
       " 47,\n",
       " 51,\n",
       " 56,\n",
       " 139,\n",
       " 64,\n",
       " 77,\n",
       " 23,\n",
       " 27,\n",
       " 25,\n",
       " 18,\n",
       " 24,\n",
       " 29,\n",
       " 89,\n",
       " 25,\n",
       " 80,\n",
       " 126,\n",
       " 70,\n",
       " 63,\n",
       " 70,\n",
       " 85,\n",
       " 20,\n",
       " 125,\n",
       " 71,\n",
       " 88,\n",
       " 94,\n",
       " 85,\n",
       " 138,\n",
       " 159,\n",
       " 61,\n",
       " 84,\n",
       " 9,\n",
       " 47,\n",
       " 472,\n",
       " 339,\n",
       " 562,\n",
       " 236,\n",
       " 192,\n",
       " 21,\n",
       " 20,\n",
       " 71,\n",
       " 39,\n",
       " 41,\n",
       " 21,\n",
       " 40,\n",
       " 159,\n",
       " 16,\n",
       " 7,\n",
       " 77,\n",
       " 108,\n",
       " 54,\n",
       " 47,\n",
       " 29,\n",
       " 66,\n",
       " 65,\n",
       " 158,\n",
       " 14,\n",
       " 35,\n",
       " 52,\n",
       " 131,\n",
       " 32,\n",
       " 473,\n",
       " 178,\n",
       " 641,\n",
       " 64,\n",
       " 34,\n",
       " 118,\n",
       " 105,\n",
       " 41,\n",
       " 133,\n",
       " 79,\n",
       " 206,\n",
       " 112,\n",
       " 113,\n",
       " 23,\n",
       " 80,\n",
       " 63,\n",
       " 6,\n",
       " 14,\n",
       " 128,\n",
       " 54,\n",
       " 64,\n",
       " 95,\n",
       " 53,\n",
       " 33,\n",
       " 53,\n",
       " 34,\n",
       " 21,\n",
       " 245,\n",
       " 7,\n",
       " 83,\n",
       " 161,\n",
       " 107,\n",
       " 100,\n",
       " 110,\n",
       " 398,\n",
       " 114,\n",
       " 136,\n",
       " 52,\n",
       " 47,\n",
       " 25,\n",
       " 11,\n",
       " 74,\n",
       " 55,\n",
       " 89,\n",
       " 94,\n",
       " 47,\n",
       " 72,\n",
       " 137,\n",
       " 88,\n",
       " 467,\n",
       " 34,\n",
       " 57,\n",
       " 20,\n",
       " 102,\n",
       " 11,\n",
       " 140,\n",
       " 27,\n",
       " 14,\n",
       " 73,\n",
       " 23,\n",
       " 70,\n",
       " 26,\n",
       " 70,\n",
       " 70,\n",
       " 30,\n",
       " 70,\n",
       " 127,\n",
       " 52,\n",
       " 27,\n",
       " 29,\n",
       " 89,\n",
       " 56,\n",
       " 45,\n",
       " 70,\n",
       " 148,\n",
       " 196,\n",
       " 73,\n",
       " 64,\n",
       " 55,\n",
       " 127,\n",
       " 66,\n",
       " 122,\n",
       " 89,\n",
       " 115,\n",
       " 58,\n",
       " 94,\n",
       " 116,\n",
       " 165,\n",
       " 146,\n",
       " 97,\n",
       " 88,\n",
       " 67,\n",
       " 122,\n",
       " 122,\n",
       " 102,\n",
       " 88,\n",
       " 69,\n",
       " 12,\n",
       " 63,\n",
       " 16,\n",
       " 139,\n",
       " 53,\n",
       " 14,\n",
       " 67,\n",
       " 94,\n",
       " 37,\n",
       " 40,\n",
       " 66,\n",
       " 82,\n",
       " 36,\n",
       " 141,\n",
       " 115,\n",
       " 29,\n",
       " 102,\n",
       " 161,\n",
       " 131,\n",
       " 128,\n",
       " 136,\n",
       " 145,\n",
       " 140,\n",
       " 170,\n",
       " 74,\n",
       " 63,\n",
       " 50,\n",
       " 87,\n",
       " 14,\n",
       " 59,\n",
       " 24,\n",
       " 410,\n",
       " 63,\n",
       " 20,\n",
       " 23,\n",
       " 38,\n",
       " 25,\n",
       " 73,\n",
       " 28,\n",
       " 269,\n",
       " 43,\n",
       " 37,\n",
       " 10,\n",
       " 50,\n",
       " 65,\n",
       " 29,\n",
       " 66,\n",
       " 53,\n",
       " 42,\n",
       " 61,\n",
       " 83,\n",
       " 67,\n",
       " 48,\n",
       " 28,\n",
       " 43,\n",
       " 49,\n",
       " 28,\n",
       " 52,\n",
       " 86,\n",
       " 90,\n",
       " 64,\n",
       " 72,\n",
       " 18,\n",
       " 98,\n",
       " 98,\n",
       " 48,\n",
       " 36,\n",
       " 112,\n",
       " 55,\n",
       " 57,\n",
       " 55,\n",
       " 69,\n",
       " 97,\n",
       " 64,\n",
       " 56,\n",
       " 15,\n",
       " 126,\n",
       " 21,\n",
       " 97,\n",
       " 66,\n",
       " 34,\n",
       " 37,\n",
       " 152,\n",
       " 111,\n",
       " 177,\n",
       " 96,\n",
       " 135,\n",
       " 109,\n",
       " 107,\n",
       " 112,\n",
       " 143,\n",
       " 44,\n",
       " 56,\n",
       " 51,\n",
       " 23,\n",
       " 97,\n",
       " 28,\n",
       " 40,\n",
       " 57,\n",
       " 19,\n",
       " 82,\n",
       " 53,\n",
       " 289,\n",
       " 261,\n",
       " 33,\n",
       " 189,\n",
       " 151,\n",
       " 16,\n",
       " 66,\n",
       " 73,\n",
       " 82,\n",
       " 25,\n",
       " 130,\n",
       " 105,\n",
       " 82,\n",
       " 50,\n",
       " 49,\n",
       " 101,\n",
       " 88,\n",
       " 48,\n",
       " 71,\n",
       " 52,\n",
       " 66,\n",
       " 58,\n",
       " 62,\n",
       " 13,\n",
       " 39,\n",
       " 57,\n",
       " 119,\n",
       " 147,\n",
       " 13,\n",
       " 12,\n",
       " 7,\n",
       " 11,\n",
       " 66,\n",
       " 74,\n",
       " 81,\n",
       " 80,\n",
       " 138,\n",
       " 62,\n",
       " 123,\n",
       " 114,\n",
       " 72,\n",
       " 13,\n",
       " 75,\n",
       " 63,\n",
       " 92,\n",
       " 137,\n",
       " 108,\n",
       " 149,\n",
       " 342,\n",
       " 250,\n",
       " 110,\n",
       " 116,\n",
       " 142,\n",
       " 97,\n",
       " 151,\n",
       " 54,\n",
       " 243,\n",
       " 55,\n",
       " 76,\n",
       " 43,\n",
       " 69,\n",
       " 63,\n",
       " 71,\n",
       " 37,\n",
       " 53,\n",
       " 7,\n",
       " 69,\n",
       " 28,\n",
       " 61,\n",
       " 79,\n",
       " 114,\n",
       " 87,\n",
       " 91,\n",
       " 50,\n",
       " 117,\n",
       " 21,\n",
       " 139,\n",
       " 81,\n",
       " 115,\n",
       " 176,\n",
       " 161,\n",
       " 31,\n",
       " 11,\n",
       " 34,\n",
       " 70,\n",
       " 145,\n",
       " 64,\n",
       " 30,\n",
       " 13,\n",
       " 15,\n",
       " 20,\n",
       " 303,\n",
       " 25,\n",
       " 228,\n",
       " 96,\n",
       " 58,\n",
       " 28,\n",
       " 55,\n",
       " 39,\n",
       " 12,\n",
       " 93,\n",
       " 59,\n",
       " 29,\n",
       " 134,\n",
       " 19,\n",
       " 111,\n",
       " 66,\n",
       " 118,\n",
       " 59,\n",
       " 99,\n",
       " 103,\n",
       " 41,\n",
       " 78,\n",
       " 77,\n",
       " 131,\n",
       " 40,\n",
       " 23,\n",
       " 86,\n",
       " 61,\n",
       " 25,\n",
       " 34,\n",
       " 96,\n",
       " 19,\n",
       " 59,\n",
       " 21,\n",
       " 62,\n",
       " 14,\n",
       " 20,\n",
       " 95,\n",
       " 22,\n",
       " 20,\n",
       " 59,\n",
       " 44,\n",
       " 50,\n",
       " 67,\n",
       " 236,\n",
       " 105,\n",
       " 51,\n",
       " 28,\n",
       " 104,\n",
       " 92,\n",
       " 44,\n",
       " 207,\n",
       " 58,\n",
       " 96,\n",
       " 62,\n",
       " 384,\n",
       " 84,\n",
       " 13,\n",
       " 149,\n",
       " 56,\n",
       " 19]"
      ]
     },
     "execution_count": 77,
     "metadata": {},
     "output_type": "execute_result"
    }
   ],
   "source": [
    "df"
   ]
  },
  {
   "cell_type": "code",
   "execution_count": 81,
   "id": "701fc2c4",
   "metadata": {},
   "outputs": [],
   "source": [
    "# create the bins\n",
    "counts, bins = np.histogram(df, bins=range(0, 650, 2))\n",
    "bins = 0.5 * (bins[:-1] + bins[1:])"
   ]
  },
  {
   "cell_type": "code",
   "execution_count": 82,
   "id": "3ed97ae3",
   "metadata": {},
   "outputs": [],
   "source": [
    "fig = px.bar(x=bins, y=counts, labels={'x':'token_length', 'y':'count'})"
   ]
  },
  {
   "cell_type": "code",
   "execution_count": 83,
   "id": "6e56daed",
   "metadata": {},
   "outputs": [
    {
     "data": {
      "application/vnd.plotly.v1+json": {
       "config": {
        "plotlyServerURL": "https://plot.ly"
       },
       "data": [
        {
         "alignmentgroup": "True",
         "hovertemplate": "token_length=%{x}<br>count=%{y}<extra></extra>",
         "legendgroup": "",
         "marker": {
          "color": "#636efa",
          "pattern": {
           "shape": ""
          }
         },
         "name": "",
         "offsetgroup": "",
         "orientation": "v",
         "showlegend": false,
         "textposition": "auto",
         "type": "bar",
         "x": [
          1,
          3,
          5,
          7,
          9,
          11,
          13,
          15,
          17,
          19,
          21,
          23,
          25,
          27,
          29,
          31,
          33,
          35,
          37,
          39,
          41,
          43,
          45,
          47,
          49,
          51,
          53,
          55,
          57,
          59,
          61,
          63,
          65,
          67,
          69,
          71,
          73,
          75,
          77,
          79,
          81,
          83,
          85,
          87,
          89,
          91,
          93,
          95,
          97,
          99,
          101,
          103,
          105,
          107,
          109,
          111,
          113,
          115,
          117,
          119,
          121,
          123,
          125,
          127,
          129,
          131,
          133,
          135,
          137,
          139,
          141,
          143,
          145,
          147,
          149,
          151,
          153,
          155,
          157,
          159,
          161,
          163,
          165,
          167,
          169,
          171,
          173,
          175,
          177,
          179,
          181,
          183,
          185,
          187,
          189,
          191,
          193,
          195,
          197,
          199,
          201,
          203,
          205,
          207,
          209,
          211,
          213,
          215,
          217,
          219,
          221,
          223,
          225,
          227,
          229,
          231,
          233,
          235,
          237,
          239,
          241,
          243,
          245,
          247,
          249,
          251,
          253,
          255,
          257,
          259,
          261,
          263,
          265,
          267,
          269,
          271,
          273,
          275,
          277,
          279,
          281,
          283,
          285,
          287,
          289,
          291,
          293,
          295,
          297,
          299,
          301,
          303,
          305,
          307,
          309,
          311,
          313,
          315,
          317,
          319,
          321,
          323,
          325,
          327,
          329,
          331,
          333,
          335,
          337,
          339,
          341,
          343,
          345,
          347,
          349,
          351,
          353,
          355,
          357,
          359,
          361,
          363,
          365,
          367,
          369,
          371,
          373,
          375,
          377,
          379,
          381,
          383,
          385,
          387,
          389,
          391,
          393,
          395,
          397,
          399,
          401,
          403,
          405,
          407,
          409,
          411,
          413,
          415,
          417,
          419,
          421,
          423,
          425,
          427,
          429,
          431,
          433,
          435,
          437,
          439,
          441,
          443,
          445,
          447,
          449,
          451,
          453,
          455,
          457,
          459,
          461,
          463,
          465,
          467,
          469,
          471,
          473,
          475,
          477,
          479,
          481,
          483,
          485,
          487,
          489,
          491,
          493,
          495,
          497,
          499,
          501,
          503,
          505,
          507,
          509,
          511,
          513,
          515,
          517,
          519,
          521,
          523,
          525,
          527,
          529,
          531,
          533,
          535,
          537,
          539,
          541,
          543,
          545,
          547,
          549,
          551,
          553,
          555,
          557,
          559,
          561,
          563,
          565,
          567,
          569,
          571,
          573,
          575,
          577,
          579,
          581,
          583,
          585,
          587,
          589,
          591,
          593,
          595,
          597,
          599,
          601,
          603,
          605,
          607,
          609,
          611,
          613,
          615,
          617,
          619,
          621,
          623,
          625,
          627,
          629,
          631,
          633,
          635,
          637,
          639,
          641,
          643,
          645,
          647
         ],
         "xaxis": "x",
         "y": [
          0,
          0,
          0,
          5,
          2,
          5,
          9,
          9,
          3,
          8,
          17,
          8,
          12,
          6,
          13,
          6,
          6,
          7,
          9,
          5,
          8,
          5,
          8,
          6,
          9,
          9,
          16,
          12,
          10,
          13,
          7,
          12,
          13,
          13,
          5,
          17,
          8,
          5,
          5,
          5,
          5,
          7,
          5,
          5,
          10,
          4,
          4,
          6,
          11,
          5,
          3,
          4,
          5,
          4,
          3,
          7,
          4,
          8,
          4,
          5,
          2,
          5,
          1,
          4,
          2,
          4,
          1,
          2,
          4,
          5,
          3,
          3,
          2,
          2,
          4,
          2,
          1,
          0,
          0,
          3,
          3,
          0,
          1,
          1,
          0,
          1,
          0,
          0,
          2,
          1,
          1,
          0,
          0,
          0,
          1,
          0,
          1,
          0,
          1,
          0,
          0,
          0,
          0,
          2,
          0,
          0,
          0,
          0,
          0,
          0,
          0,
          0,
          0,
          0,
          1,
          0,
          0,
          0,
          2,
          0,
          0,
          1,
          1,
          0,
          0,
          1,
          0,
          0,
          0,
          0,
          1,
          0,
          0,
          0,
          1,
          0,
          0,
          0,
          0,
          0,
          0,
          0,
          0,
          0,
          1,
          0,
          0,
          0,
          0,
          0,
          1,
          1,
          0,
          0,
          0,
          0,
          0,
          0,
          0,
          0,
          0,
          0,
          1,
          0,
          0,
          0,
          0,
          0,
          0,
          1,
          0,
          1,
          0,
          0,
          0,
          0,
          0,
          0,
          1,
          0,
          0,
          0,
          0,
          0,
          0,
          0,
          0,
          0,
          0,
          0,
          0,
          0,
          1,
          0,
          0,
          0,
          0,
          0,
          0,
          1,
          0,
          0,
          0,
          0,
          0,
          1,
          0,
          0,
          0,
          0,
          0,
          0,
          0,
          0,
          0,
          0,
          1,
          0,
          0,
          0,
          0,
          0,
          0,
          0,
          1,
          0,
          0,
          0,
          0,
          0,
          0,
          0,
          0,
          1,
          0,
          0,
          2,
          0,
          0,
          0,
          0,
          0,
          0,
          0,
          0,
          0,
          0,
          0,
          0,
          0,
          0,
          0,
          0,
          0,
          0,
          0,
          0,
          0,
          0,
          0,
          0,
          0,
          0,
          0,
          0,
          0,
          0,
          0,
          0,
          0,
          0,
          0,
          0,
          0,
          0,
          0,
          0,
          0,
          0,
          0,
          1,
          1,
          0,
          0,
          0,
          0,
          0,
          0,
          0,
          0,
          0,
          0,
          0,
          0,
          0,
          0,
          0,
          0,
          0,
          0,
          0,
          0,
          0,
          0,
          0,
          0,
          0,
          0,
          0,
          0,
          0,
          0,
          0,
          0,
          0,
          0,
          0,
          0,
          0,
          0,
          1,
          0,
          0,
          0
         ],
         "yaxis": "y"
        }
       ],
       "layout": {
        "barmode": "relative",
        "legend": {
         "tracegroupgap": 0
        },
        "margin": {
         "t": 60
        },
        "template": {
         "data": {
          "bar": [
           {
            "error_x": {
             "color": "#2a3f5f"
            },
            "error_y": {
             "color": "#2a3f5f"
            },
            "marker": {
             "line": {
              "color": "#E5ECF6",
              "width": 0.5
             },
             "pattern": {
              "fillmode": "overlay",
              "size": 10,
              "solidity": 0.2
             }
            },
            "type": "bar"
           }
          ],
          "barpolar": [
           {
            "marker": {
             "line": {
              "color": "#E5ECF6",
              "width": 0.5
             },
             "pattern": {
              "fillmode": "overlay",
              "size": 10,
              "solidity": 0.2
             }
            },
            "type": "barpolar"
           }
          ],
          "carpet": [
           {
            "aaxis": {
             "endlinecolor": "#2a3f5f",
             "gridcolor": "white",
             "linecolor": "white",
             "minorgridcolor": "white",
             "startlinecolor": "#2a3f5f"
            },
            "baxis": {
             "endlinecolor": "#2a3f5f",
             "gridcolor": "white",
             "linecolor": "white",
             "minorgridcolor": "white",
             "startlinecolor": "#2a3f5f"
            },
            "type": "carpet"
           }
          ],
          "choropleth": [
           {
            "colorbar": {
             "outlinewidth": 0,
             "ticks": ""
            },
            "type": "choropleth"
           }
          ],
          "contour": [
           {
            "colorbar": {
             "outlinewidth": 0,
             "ticks": ""
            },
            "colorscale": [
             [
              0,
              "#0d0887"
             ],
             [
              0.1111111111111111,
              "#46039f"
             ],
             [
              0.2222222222222222,
              "#7201a8"
             ],
             [
              0.3333333333333333,
              "#9c179e"
             ],
             [
              0.4444444444444444,
              "#bd3786"
             ],
             [
              0.5555555555555556,
              "#d8576b"
             ],
             [
              0.6666666666666666,
              "#ed7953"
             ],
             [
              0.7777777777777778,
              "#fb9f3a"
             ],
             [
              0.8888888888888888,
              "#fdca26"
             ],
             [
              1,
              "#f0f921"
             ]
            ],
            "type": "contour"
           }
          ],
          "contourcarpet": [
           {
            "colorbar": {
             "outlinewidth": 0,
             "ticks": ""
            },
            "type": "contourcarpet"
           }
          ],
          "heatmap": [
           {
            "colorbar": {
             "outlinewidth": 0,
             "ticks": ""
            },
            "colorscale": [
             [
              0,
              "#0d0887"
             ],
             [
              0.1111111111111111,
              "#46039f"
             ],
             [
              0.2222222222222222,
              "#7201a8"
             ],
             [
              0.3333333333333333,
              "#9c179e"
             ],
             [
              0.4444444444444444,
              "#bd3786"
             ],
             [
              0.5555555555555556,
              "#d8576b"
             ],
             [
              0.6666666666666666,
              "#ed7953"
             ],
             [
              0.7777777777777778,
              "#fb9f3a"
             ],
             [
              0.8888888888888888,
              "#fdca26"
             ],
             [
              1,
              "#f0f921"
             ]
            ],
            "type": "heatmap"
           }
          ],
          "heatmapgl": [
           {
            "colorbar": {
             "outlinewidth": 0,
             "ticks": ""
            },
            "colorscale": [
             [
              0,
              "#0d0887"
             ],
             [
              0.1111111111111111,
              "#46039f"
             ],
             [
              0.2222222222222222,
              "#7201a8"
             ],
             [
              0.3333333333333333,
              "#9c179e"
             ],
             [
              0.4444444444444444,
              "#bd3786"
             ],
             [
              0.5555555555555556,
              "#d8576b"
             ],
             [
              0.6666666666666666,
              "#ed7953"
             ],
             [
              0.7777777777777778,
              "#fb9f3a"
             ],
             [
              0.8888888888888888,
              "#fdca26"
             ],
             [
              1,
              "#f0f921"
             ]
            ],
            "type": "heatmapgl"
           }
          ],
          "histogram": [
           {
            "marker": {
             "pattern": {
              "fillmode": "overlay",
              "size": 10,
              "solidity": 0.2
             }
            },
            "type": "histogram"
           }
          ],
          "histogram2d": [
           {
            "colorbar": {
             "outlinewidth": 0,
             "ticks": ""
            },
            "colorscale": [
             [
              0,
              "#0d0887"
             ],
             [
              0.1111111111111111,
              "#46039f"
             ],
             [
              0.2222222222222222,
              "#7201a8"
             ],
             [
              0.3333333333333333,
              "#9c179e"
             ],
             [
              0.4444444444444444,
              "#bd3786"
             ],
             [
              0.5555555555555556,
              "#d8576b"
             ],
             [
              0.6666666666666666,
              "#ed7953"
             ],
             [
              0.7777777777777778,
              "#fb9f3a"
             ],
             [
              0.8888888888888888,
              "#fdca26"
             ],
             [
              1,
              "#f0f921"
             ]
            ],
            "type": "histogram2d"
           }
          ],
          "histogram2dcontour": [
           {
            "colorbar": {
             "outlinewidth": 0,
             "ticks": ""
            },
            "colorscale": [
             [
              0,
              "#0d0887"
             ],
             [
              0.1111111111111111,
              "#46039f"
             ],
             [
              0.2222222222222222,
              "#7201a8"
             ],
             [
              0.3333333333333333,
              "#9c179e"
             ],
             [
              0.4444444444444444,
              "#bd3786"
             ],
             [
              0.5555555555555556,
              "#d8576b"
             ],
             [
              0.6666666666666666,
              "#ed7953"
             ],
             [
              0.7777777777777778,
              "#fb9f3a"
             ],
             [
              0.8888888888888888,
              "#fdca26"
             ],
             [
              1,
              "#f0f921"
             ]
            ],
            "type": "histogram2dcontour"
           }
          ],
          "mesh3d": [
           {
            "colorbar": {
             "outlinewidth": 0,
             "ticks": ""
            },
            "type": "mesh3d"
           }
          ],
          "parcoords": [
           {
            "line": {
             "colorbar": {
              "outlinewidth": 0,
              "ticks": ""
             }
            },
            "type": "parcoords"
           }
          ],
          "pie": [
           {
            "automargin": true,
            "type": "pie"
           }
          ],
          "scatter": [
           {
            "marker": {
             "colorbar": {
              "outlinewidth": 0,
              "ticks": ""
             }
            },
            "type": "scatter"
           }
          ],
          "scatter3d": [
           {
            "line": {
             "colorbar": {
              "outlinewidth": 0,
              "ticks": ""
             }
            },
            "marker": {
             "colorbar": {
              "outlinewidth": 0,
              "ticks": ""
             }
            },
            "type": "scatter3d"
           }
          ],
          "scattercarpet": [
           {
            "marker": {
             "colorbar": {
              "outlinewidth": 0,
              "ticks": ""
             }
            },
            "type": "scattercarpet"
           }
          ],
          "scattergeo": [
           {
            "marker": {
             "colorbar": {
              "outlinewidth": 0,
              "ticks": ""
             }
            },
            "type": "scattergeo"
           }
          ],
          "scattergl": [
           {
            "marker": {
             "colorbar": {
              "outlinewidth": 0,
              "ticks": ""
             }
            },
            "type": "scattergl"
           }
          ],
          "scattermapbox": [
           {
            "marker": {
             "colorbar": {
              "outlinewidth": 0,
              "ticks": ""
             }
            },
            "type": "scattermapbox"
           }
          ],
          "scatterpolar": [
           {
            "marker": {
             "colorbar": {
              "outlinewidth": 0,
              "ticks": ""
             }
            },
            "type": "scatterpolar"
           }
          ],
          "scatterpolargl": [
           {
            "marker": {
             "colorbar": {
              "outlinewidth": 0,
              "ticks": ""
             }
            },
            "type": "scatterpolargl"
           }
          ],
          "scatterternary": [
           {
            "marker": {
             "colorbar": {
              "outlinewidth": 0,
              "ticks": ""
             }
            },
            "type": "scatterternary"
           }
          ],
          "surface": [
           {
            "colorbar": {
             "outlinewidth": 0,
             "ticks": ""
            },
            "colorscale": [
             [
              0,
              "#0d0887"
             ],
             [
              0.1111111111111111,
              "#46039f"
             ],
             [
              0.2222222222222222,
              "#7201a8"
             ],
             [
              0.3333333333333333,
              "#9c179e"
             ],
             [
              0.4444444444444444,
              "#bd3786"
             ],
             [
              0.5555555555555556,
              "#d8576b"
             ],
             [
              0.6666666666666666,
              "#ed7953"
             ],
             [
              0.7777777777777778,
              "#fb9f3a"
             ],
             [
              0.8888888888888888,
              "#fdca26"
             ],
             [
              1,
              "#f0f921"
             ]
            ],
            "type": "surface"
           }
          ],
          "table": [
           {
            "cells": {
             "fill": {
              "color": "#EBF0F8"
             },
             "line": {
              "color": "white"
             }
            },
            "header": {
             "fill": {
              "color": "#C8D4E3"
             },
             "line": {
              "color": "white"
             }
            },
            "type": "table"
           }
          ]
         },
         "layout": {
          "annotationdefaults": {
           "arrowcolor": "#2a3f5f",
           "arrowhead": 0,
           "arrowwidth": 1
          },
          "autotypenumbers": "strict",
          "coloraxis": {
           "colorbar": {
            "outlinewidth": 0,
            "ticks": ""
           }
          },
          "colorscale": {
           "diverging": [
            [
             0,
             "#8e0152"
            ],
            [
             0.1,
             "#c51b7d"
            ],
            [
             0.2,
             "#de77ae"
            ],
            [
             0.3,
             "#f1b6da"
            ],
            [
             0.4,
             "#fde0ef"
            ],
            [
             0.5,
             "#f7f7f7"
            ],
            [
             0.6,
             "#e6f5d0"
            ],
            [
             0.7,
             "#b8e186"
            ],
            [
             0.8,
             "#7fbc41"
            ],
            [
             0.9,
             "#4d9221"
            ],
            [
             1,
             "#276419"
            ]
           ],
           "sequential": [
            [
             0,
             "#0d0887"
            ],
            [
             0.1111111111111111,
             "#46039f"
            ],
            [
             0.2222222222222222,
             "#7201a8"
            ],
            [
             0.3333333333333333,
             "#9c179e"
            ],
            [
             0.4444444444444444,
             "#bd3786"
            ],
            [
             0.5555555555555556,
             "#d8576b"
            ],
            [
             0.6666666666666666,
             "#ed7953"
            ],
            [
             0.7777777777777778,
             "#fb9f3a"
            ],
            [
             0.8888888888888888,
             "#fdca26"
            ],
            [
             1,
             "#f0f921"
            ]
           ],
           "sequentialminus": [
            [
             0,
             "#0d0887"
            ],
            [
             0.1111111111111111,
             "#46039f"
            ],
            [
             0.2222222222222222,
             "#7201a8"
            ],
            [
             0.3333333333333333,
             "#9c179e"
            ],
            [
             0.4444444444444444,
             "#bd3786"
            ],
            [
             0.5555555555555556,
             "#d8576b"
            ],
            [
             0.6666666666666666,
             "#ed7953"
            ],
            [
             0.7777777777777778,
             "#fb9f3a"
            ],
            [
             0.8888888888888888,
             "#fdca26"
            ],
            [
             1,
             "#f0f921"
            ]
           ]
          },
          "colorway": [
           "#636efa",
           "#EF553B",
           "#00cc96",
           "#ab63fa",
           "#FFA15A",
           "#19d3f3",
           "#FF6692",
           "#B6E880",
           "#FF97FF",
           "#FECB52"
          ],
          "font": {
           "color": "#2a3f5f"
          },
          "geo": {
           "bgcolor": "white",
           "lakecolor": "white",
           "landcolor": "#E5ECF6",
           "showlakes": true,
           "showland": true,
           "subunitcolor": "white"
          },
          "hoverlabel": {
           "align": "left"
          },
          "hovermode": "closest",
          "mapbox": {
           "style": "light"
          },
          "paper_bgcolor": "white",
          "plot_bgcolor": "#E5ECF6",
          "polar": {
           "angularaxis": {
            "gridcolor": "white",
            "linecolor": "white",
            "ticks": ""
           },
           "bgcolor": "#E5ECF6",
           "radialaxis": {
            "gridcolor": "white",
            "linecolor": "white",
            "ticks": ""
           }
          },
          "scene": {
           "xaxis": {
            "backgroundcolor": "#E5ECF6",
            "gridcolor": "white",
            "gridwidth": 2,
            "linecolor": "white",
            "showbackground": true,
            "ticks": "",
            "zerolinecolor": "white"
           },
           "yaxis": {
            "backgroundcolor": "#E5ECF6",
            "gridcolor": "white",
            "gridwidth": 2,
            "linecolor": "white",
            "showbackground": true,
            "ticks": "",
            "zerolinecolor": "white"
           },
           "zaxis": {
            "backgroundcolor": "#E5ECF6",
            "gridcolor": "white",
            "gridwidth": 2,
            "linecolor": "white",
            "showbackground": true,
            "ticks": "",
            "zerolinecolor": "white"
           }
          },
          "shapedefaults": {
           "line": {
            "color": "#2a3f5f"
           }
          },
          "ternary": {
           "aaxis": {
            "gridcolor": "white",
            "linecolor": "white",
            "ticks": ""
           },
           "baxis": {
            "gridcolor": "white",
            "linecolor": "white",
            "ticks": ""
           },
           "bgcolor": "#E5ECF6",
           "caxis": {
            "gridcolor": "white",
            "linecolor": "white",
            "ticks": ""
           }
          },
          "title": {
           "x": 0.05
          },
          "xaxis": {
           "automargin": true,
           "gridcolor": "white",
           "linecolor": "white",
           "ticks": "",
           "title": {
            "standoff": 15
           },
           "zerolinecolor": "white",
           "zerolinewidth": 2
          },
          "yaxis": {
           "automargin": true,
           "gridcolor": "white",
           "linecolor": "white",
           "ticks": "",
           "title": {
            "standoff": 15
           },
           "zerolinecolor": "white",
           "zerolinewidth": 2
          }
         }
        },
        "xaxis": {
         "anchor": "y",
         "domain": [
          0,
          1
         ],
         "title": {
          "text": "token_length"
         }
        },
        "yaxis": {
         "anchor": "x",
         "domain": [
          0,
          1
         ],
         "title": {
          "text": "count"
         }
        }
       }
      },
      "text/html": [
       "<div>                            <div id=\"fc83f067-6e22-486d-8e18-1f1cecfe41bc\" class=\"plotly-graph-div\" style=\"height:525px; width:100%;\"></div>            <script type=\"text/javascript\">                require([\"plotly\"], function(Plotly) {                    window.PLOTLYENV=window.PLOTLYENV || {};                                    if (document.getElementById(\"fc83f067-6e22-486d-8e18-1f1cecfe41bc\")) {                    Plotly.newPlot(                        \"fc83f067-6e22-486d-8e18-1f1cecfe41bc\",                        [{\"alignmentgroup\":\"True\",\"hovertemplate\":\"token_length=%{x}<br>count=%{y}<extra></extra>\",\"legendgroup\":\"\",\"marker\":{\"color\":\"#636efa\",\"pattern\":{\"shape\":\"\"}},\"name\":\"\",\"offsetgroup\":\"\",\"orientation\":\"v\",\"showlegend\":false,\"textposition\":\"auto\",\"type\":\"bar\",\"x\":[1.0,3.0,5.0,7.0,9.0,11.0,13.0,15.0,17.0,19.0,21.0,23.0,25.0,27.0,29.0,31.0,33.0,35.0,37.0,39.0,41.0,43.0,45.0,47.0,49.0,51.0,53.0,55.0,57.0,59.0,61.0,63.0,65.0,67.0,69.0,71.0,73.0,75.0,77.0,79.0,81.0,83.0,85.0,87.0,89.0,91.0,93.0,95.0,97.0,99.0,101.0,103.0,105.0,107.0,109.0,111.0,113.0,115.0,117.0,119.0,121.0,123.0,125.0,127.0,129.0,131.0,133.0,135.0,137.0,139.0,141.0,143.0,145.0,147.0,149.0,151.0,153.0,155.0,157.0,159.0,161.0,163.0,165.0,167.0,169.0,171.0,173.0,175.0,177.0,179.0,181.0,183.0,185.0,187.0,189.0,191.0,193.0,195.0,197.0,199.0,201.0,203.0,205.0,207.0,209.0,211.0,213.0,215.0,217.0,219.0,221.0,223.0,225.0,227.0,229.0,231.0,233.0,235.0,237.0,239.0,241.0,243.0,245.0,247.0,249.0,251.0,253.0,255.0,257.0,259.0,261.0,263.0,265.0,267.0,269.0,271.0,273.0,275.0,277.0,279.0,281.0,283.0,285.0,287.0,289.0,291.0,293.0,295.0,297.0,299.0,301.0,303.0,305.0,307.0,309.0,311.0,313.0,315.0,317.0,319.0,321.0,323.0,325.0,327.0,329.0,331.0,333.0,335.0,337.0,339.0,341.0,343.0,345.0,347.0,349.0,351.0,353.0,355.0,357.0,359.0,361.0,363.0,365.0,367.0,369.0,371.0,373.0,375.0,377.0,379.0,381.0,383.0,385.0,387.0,389.0,391.0,393.0,395.0,397.0,399.0,401.0,403.0,405.0,407.0,409.0,411.0,413.0,415.0,417.0,419.0,421.0,423.0,425.0,427.0,429.0,431.0,433.0,435.0,437.0,439.0,441.0,443.0,445.0,447.0,449.0,451.0,453.0,455.0,457.0,459.0,461.0,463.0,465.0,467.0,469.0,471.0,473.0,475.0,477.0,479.0,481.0,483.0,485.0,487.0,489.0,491.0,493.0,495.0,497.0,499.0,501.0,503.0,505.0,507.0,509.0,511.0,513.0,515.0,517.0,519.0,521.0,523.0,525.0,527.0,529.0,531.0,533.0,535.0,537.0,539.0,541.0,543.0,545.0,547.0,549.0,551.0,553.0,555.0,557.0,559.0,561.0,563.0,565.0,567.0,569.0,571.0,573.0,575.0,577.0,579.0,581.0,583.0,585.0,587.0,589.0,591.0,593.0,595.0,597.0,599.0,601.0,603.0,605.0,607.0,609.0,611.0,613.0,615.0,617.0,619.0,621.0,623.0,625.0,627.0,629.0,631.0,633.0,635.0,637.0,639.0,641.0,643.0,645.0,647.0],\"xaxis\":\"x\",\"y\":[0,0,0,5,2,5,9,9,3,8,17,8,12,6,13,6,6,7,9,5,8,5,8,6,9,9,16,12,10,13,7,12,13,13,5,17,8,5,5,5,5,7,5,5,10,4,4,6,11,5,3,4,5,4,3,7,4,8,4,5,2,5,1,4,2,4,1,2,4,5,3,3,2,2,4,2,1,0,0,3,3,0,1,1,0,1,0,0,2,1,1,0,0,0,1,0,1,0,1,0,0,0,0,2,0,0,0,0,0,0,0,0,0,0,1,0,0,0,2,0,0,1,1,0,0,1,0,0,0,0,1,0,0,0,1,0,0,0,0,0,0,0,0,0,1,0,0,0,0,0,1,1,0,0,0,0,0,0,0,0,0,0,1,0,0,0,0,0,0,1,0,1,0,0,0,0,0,0,1,0,0,0,0,0,0,0,0,0,0,0,0,0,1,0,0,0,0,0,0,1,0,0,0,0,0,1,0,0,0,0,0,0,0,0,0,0,1,0,0,0,0,0,0,0,1,0,0,0,0,0,0,0,0,1,0,0,2,0,0,0,0,0,0,0,0,0,0,0,0,0,0,0,0,0,0,0,0,0,0,0,0,0,0,0,0,0,0,0,0,0,0,0,0,0,0,0,0,0,0,0,1,1,0,0,0,0,0,0,0,0,0,0,0,0,0,0,0,0,0,0,0,0,0,0,0,0,0,0,0,0,0,0,0,0,0,0,0,0,0,0,1,0,0,0],\"yaxis\":\"y\"}],                        {\"barmode\":\"relative\",\"legend\":{\"tracegroupgap\":0},\"margin\":{\"t\":60},\"template\":{\"data\":{\"bar\":[{\"error_x\":{\"color\":\"#2a3f5f\"},\"error_y\":{\"color\":\"#2a3f5f\"},\"marker\":{\"line\":{\"color\":\"#E5ECF6\",\"width\":0.5},\"pattern\":{\"fillmode\":\"overlay\",\"size\":10,\"solidity\":0.2}},\"type\":\"bar\"}],\"barpolar\":[{\"marker\":{\"line\":{\"color\":\"#E5ECF6\",\"width\":0.5},\"pattern\":{\"fillmode\":\"overlay\",\"size\":10,\"solidity\":0.2}},\"type\":\"barpolar\"}],\"carpet\":[{\"aaxis\":{\"endlinecolor\":\"#2a3f5f\",\"gridcolor\":\"white\",\"linecolor\":\"white\",\"minorgridcolor\":\"white\",\"startlinecolor\":\"#2a3f5f\"},\"baxis\":{\"endlinecolor\":\"#2a3f5f\",\"gridcolor\":\"white\",\"linecolor\":\"white\",\"minorgridcolor\":\"white\",\"startlinecolor\":\"#2a3f5f\"},\"type\":\"carpet\"}],\"choropleth\":[{\"colorbar\":{\"outlinewidth\":0,\"ticks\":\"\"},\"type\":\"choropleth\"}],\"contour\":[{\"colorbar\":{\"outlinewidth\":0,\"ticks\":\"\"},\"colorscale\":[[0.0,\"#0d0887\"],[0.1111111111111111,\"#46039f\"],[0.2222222222222222,\"#7201a8\"],[0.3333333333333333,\"#9c179e\"],[0.4444444444444444,\"#bd3786\"],[0.5555555555555556,\"#d8576b\"],[0.6666666666666666,\"#ed7953\"],[0.7777777777777778,\"#fb9f3a\"],[0.8888888888888888,\"#fdca26\"],[1.0,\"#f0f921\"]],\"type\":\"contour\"}],\"contourcarpet\":[{\"colorbar\":{\"outlinewidth\":0,\"ticks\":\"\"},\"type\":\"contourcarpet\"}],\"heatmap\":[{\"colorbar\":{\"outlinewidth\":0,\"ticks\":\"\"},\"colorscale\":[[0.0,\"#0d0887\"],[0.1111111111111111,\"#46039f\"],[0.2222222222222222,\"#7201a8\"],[0.3333333333333333,\"#9c179e\"],[0.4444444444444444,\"#bd3786\"],[0.5555555555555556,\"#d8576b\"],[0.6666666666666666,\"#ed7953\"],[0.7777777777777778,\"#fb9f3a\"],[0.8888888888888888,\"#fdca26\"],[1.0,\"#f0f921\"]],\"type\":\"heatmap\"}],\"heatmapgl\":[{\"colorbar\":{\"outlinewidth\":0,\"ticks\":\"\"},\"colorscale\":[[0.0,\"#0d0887\"],[0.1111111111111111,\"#46039f\"],[0.2222222222222222,\"#7201a8\"],[0.3333333333333333,\"#9c179e\"],[0.4444444444444444,\"#bd3786\"],[0.5555555555555556,\"#d8576b\"],[0.6666666666666666,\"#ed7953\"],[0.7777777777777778,\"#fb9f3a\"],[0.8888888888888888,\"#fdca26\"],[1.0,\"#f0f921\"]],\"type\":\"heatmapgl\"}],\"histogram\":[{\"marker\":{\"pattern\":{\"fillmode\":\"overlay\",\"size\":10,\"solidity\":0.2}},\"type\":\"histogram\"}],\"histogram2d\":[{\"colorbar\":{\"outlinewidth\":0,\"ticks\":\"\"},\"colorscale\":[[0.0,\"#0d0887\"],[0.1111111111111111,\"#46039f\"],[0.2222222222222222,\"#7201a8\"],[0.3333333333333333,\"#9c179e\"],[0.4444444444444444,\"#bd3786\"],[0.5555555555555556,\"#d8576b\"],[0.6666666666666666,\"#ed7953\"],[0.7777777777777778,\"#fb9f3a\"],[0.8888888888888888,\"#fdca26\"],[1.0,\"#f0f921\"]],\"type\":\"histogram2d\"}],\"histogram2dcontour\":[{\"colorbar\":{\"outlinewidth\":0,\"ticks\":\"\"},\"colorscale\":[[0.0,\"#0d0887\"],[0.1111111111111111,\"#46039f\"],[0.2222222222222222,\"#7201a8\"],[0.3333333333333333,\"#9c179e\"],[0.4444444444444444,\"#bd3786\"],[0.5555555555555556,\"#d8576b\"],[0.6666666666666666,\"#ed7953\"],[0.7777777777777778,\"#fb9f3a\"],[0.8888888888888888,\"#fdca26\"],[1.0,\"#f0f921\"]],\"type\":\"histogram2dcontour\"}],\"mesh3d\":[{\"colorbar\":{\"outlinewidth\":0,\"ticks\":\"\"},\"type\":\"mesh3d\"}],\"parcoords\":[{\"line\":{\"colorbar\":{\"outlinewidth\":0,\"ticks\":\"\"}},\"type\":\"parcoords\"}],\"pie\":[{\"automargin\":true,\"type\":\"pie\"}],\"scatter\":[{\"marker\":{\"colorbar\":{\"outlinewidth\":0,\"ticks\":\"\"}},\"type\":\"scatter\"}],\"scatter3d\":[{\"line\":{\"colorbar\":{\"outlinewidth\":0,\"ticks\":\"\"}},\"marker\":{\"colorbar\":{\"outlinewidth\":0,\"ticks\":\"\"}},\"type\":\"scatter3d\"}],\"scattercarpet\":[{\"marker\":{\"colorbar\":{\"outlinewidth\":0,\"ticks\":\"\"}},\"type\":\"scattercarpet\"}],\"scattergeo\":[{\"marker\":{\"colorbar\":{\"outlinewidth\":0,\"ticks\":\"\"}},\"type\":\"scattergeo\"}],\"scattergl\":[{\"marker\":{\"colorbar\":{\"outlinewidth\":0,\"ticks\":\"\"}},\"type\":\"scattergl\"}],\"scattermapbox\":[{\"marker\":{\"colorbar\":{\"outlinewidth\":0,\"ticks\":\"\"}},\"type\":\"scattermapbox\"}],\"scatterpolar\":[{\"marker\":{\"colorbar\":{\"outlinewidth\":0,\"ticks\":\"\"}},\"type\":\"scatterpolar\"}],\"scatterpolargl\":[{\"marker\":{\"colorbar\":{\"outlinewidth\":0,\"ticks\":\"\"}},\"type\":\"scatterpolargl\"}],\"scatterternary\":[{\"marker\":{\"colorbar\":{\"outlinewidth\":0,\"ticks\":\"\"}},\"type\":\"scatterternary\"}],\"surface\":[{\"colorbar\":{\"outlinewidth\":0,\"ticks\":\"\"},\"colorscale\":[[0.0,\"#0d0887\"],[0.1111111111111111,\"#46039f\"],[0.2222222222222222,\"#7201a8\"],[0.3333333333333333,\"#9c179e\"],[0.4444444444444444,\"#bd3786\"],[0.5555555555555556,\"#d8576b\"],[0.6666666666666666,\"#ed7953\"],[0.7777777777777778,\"#fb9f3a\"],[0.8888888888888888,\"#fdca26\"],[1.0,\"#f0f921\"]],\"type\":\"surface\"}],\"table\":[{\"cells\":{\"fill\":{\"color\":\"#EBF0F8\"},\"line\":{\"color\":\"white\"}},\"header\":{\"fill\":{\"color\":\"#C8D4E3\"},\"line\":{\"color\":\"white\"}},\"type\":\"table\"}]},\"layout\":{\"annotationdefaults\":{\"arrowcolor\":\"#2a3f5f\",\"arrowhead\":0,\"arrowwidth\":1},\"autotypenumbers\":\"strict\",\"coloraxis\":{\"colorbar\":{\"outlinewidth\":0,\"ticks\":\"\"}},\"colorscale\":{\"diverging\":[[0,\"#8e0152\"],[0.1,\"#c51b7d\"],[0.2,\"#de77ae\"],[0.3,\"#f1b6da\"],[0.4,\"#fde0ef\"],[0.5,\"#f7f7f7\"],[0.6,\"#e6f5d0\"],[0.7,\"#b8e186\"],[0.8,\"#7fbc41\"],[0.9,\"#4d9221\"],[1,\"#276419\"]],\"sequential\":[[0.0,\"#0d0887\"],[0.1111111111111111,\"#46039f\"],[0.2222222222222222,\"#7201a8\"],[0.3333333333333333,\"#9c179e\"],[0.4444444444444444,\"#bd3786\"],[0.5555555555555556,\"#d8576b\"],[0.6666666666666666,\"#ed7953\"],[0.7777777777777778,\"#fb9f3a\"],[0.8888888888888888,\"#fdca26\"],[1.0,\"#f0f921\"]],\"sequentialminus\":[[0.0,\"#0d0887\"],[0.1111111111111111,\"#46039f\"],[0.2222222222222222,\"#7201a8\"],[0.3333333333333333,\"#9c179e\"],[0.4444444444444444,\"#bd3786\"],[0.5555555555555556,\"#d8576b\"],[0.6666666666666666,\"#ed7953\"],[0.7777777777777778,\"#fb9f3a\"],[0.8888888888888888,\"#fdca26\"],[1.0,\"#f0f921\"]]},\"colorway\":[\"#636efa\",\"#EF553B\",\"#00cc96\",\"#ab63fa\",\"#FFA15A\",\"#19d3f3\",\"#FF6692\",\"#B6E880\",\"#FF97FF\",\"#FECB52\"],\"font\":{\"color\":\"#2a3f5f\"},\"geo\":{\"bgcolor\":\"white\",\"lakecolor\":\"white\",\"landcolor\":\"#E5ECF6\",\"showlakes\":true,\"showland\":true,\"subunitcolor\":\"white\"},\"hoverlabel\":{\"align\":\"left\"},\"hovermode\":\"closest\",\"mapbox\":{\"style\":\"light\"},\"paper_bgcolor\":\"white\",\"plot_bgcolor\":\"#E5ECF6\",\"polar\":{\"angularaxis\":{\"gridcolor\":\"white\",\"linecolor\":\"white\",\"ticks\":\"\"},\"bgcolor\":\"#E5ECF6\",\"radialaxis\":{\"gridcolor\":\"white\",\"linecolor\":\"white\",\"ticks\":\"\"}},\"scene\":{\"xaxis\":{\"backgroundcolor\":\"#E5ECF6\",\"gridcolor\":\"white\",\"gridwidth\":2,\"linecolor\":\"white\",\"showbackground\":true,\"ticks\":\"\",\"zerolinecolor\":\"white\"},\"yaxis\":{\"backgroundcolor\":\"#E5ECF6\",\"gridcolor\":\"white\",\"gridwidth\":2,\"linecolor\":\"white\",\"showbackground\":true,\"ticks\":\"\",\"zerolinecolor\":\"white\"},\"zaxis\":{\"backgroundcolor\":\"#E5ECF6\",\"gridcolor\":\"white\",\"gridwidth\":2,\"linecolor\":\"white\",\"showbackground\":true,\"ticks\":\"\",\"zerolinecolor\":\"white\"}},\"shapedefaults\":{\"line\":{\"color\":\"#2a3f5f\"}},\"ternary\":{\"aaxis\":{\"gridcolor\":\"white\",\"linecolor\":\"white\",\"ticks\":\"\"},\"baxis\":{\"gridcolor\":\"white\",\"linecolor\":\"white\",\"ticks\":\"\"},\"bgcolor\":\"#E5ECF6\",\"caxis\":{\"gridcolor\":\"white\",\"linecolor\":\"white\",\"ticks\":\"\"}},\"title\":{\"x\":0.05},\"xaxis\":{\"automargin\":true,\"gridcolor\":\"white\",\"linecolor\":\"white\",\"ticks\":\"\",\"title\":{\"standoff\":15},\"zerolinecolor\":\"white\",\"zerolinewidth\":2},\"yaxis\":{\"automargin\":true,\"gridcolor\":\"white\",\"linecolor\":\"white\",\"ticks\":\"\",\"title\":{\"standoff\":15},\"zerolinecolor\":\"white\",\"zerolinewidth\":2}}},\"xaxis\":{\"anchor\":\"y\",\"domain\":[0.0,1.0],\"title\":{\"text\":\"token_length\"}},\"yaxis\":{\"anchor\":\"x\",\"domain\":[0.0,1.0],\"title\":{\"text\":\"count\"}}},                        {\"responsive\": true}                    ).then(function(){\n",
       "                            \n",
       "var gd = document.getElementById('fc83f067-6e22-486d-8e18-1f1cecfe41bc');\n",
       "var x = new MutationObserver(function (mutations, observer) {{\n",
       "        var display = window.getComputedStyle(gd).display;\n",
       "        if (!display || display === 'none') {{\n",
       "            console.log([gd, 'removed!']);\n",
       "            Plotly.purge(gd);\n",
       "            observer.disconnect();\n",
       "        }}\n",
       "}});\n",
       "\n",
       "// Listen for the removal of the full notebook cells\n",
       "var notebookContainer = gd.closest('#notebook-container');\n",
       "if (notebookContainer) {{\n",
       "    x.observe(notebookContainer, {childList: true});\n",
       "}}\n",
       "\n",
       "// Listen for the clearing of the current output cell\n",
       "var outputEl = gd.closest('.output');\n",
       "if (outputEl) {{\n",
       "    x.observe(outputEl, {childList: true});\n",
       "}}\n",
       "\n",
       "                        })                };                });            </script>        </div>"
      ]
     },
     "metadata": {},
     "output_type": "display_data"
    }
   ],
   "source": [
    "fig.show()"
   ]
  },
  {
   "cell_type": "code",
   "execution_count": null,
   "id": "cd7839fd",
   "metadata": {},
   "outputs": [],
   "source": []
  }
 ],
 "metadata": {
  "kernelspec": {
   "display_name": "Python 3",
   "language": "python",
   "name": "python3"
  },
  "language_info": {
   "codemirror_mode": {
    "name": "ipython",
    "version": 3
   },
   "file_extension": ".py",
   "mimetype": "text/x-python",
   "name": "python",
   "nbconvert_exporter": "python",
   "pygments_lexer": "ipython3",
   "version": "3.8.8"
  }
 },
 "nbformat": 4,
 "nbformat_minor": 5
}
