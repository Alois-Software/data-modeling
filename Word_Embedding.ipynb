{
 "cells": [
  {
   "cell_type": "code",
   "execution_count": 1,
   "metadata": {
    "id": "oXxsyIwD64iC"
   },
   "outputs": [],
   "source": [
    "import pandas as pd"
   ]
  },
  {
   "cell_type": "code",
   "execution_count": 13,
   "metadata": {
    "colab": {
     "base_uri": "https://localhost:8080/"
    },
    "id": "W3Pvc9Xd68LB",
    "outputId": "5535a97b-ec2a-46c6-894f-e87b25a9a3f0"
   },
   "outputs": [],
   "source": [
    "df = pd.read_csv('https://raw.githubusercontent.com/Alois-Software/data-modeling/word-embedding/social_media_parsed.csv', header=0)"
   ]
  },
  {
   "cell_type": "code",
   "execution_count": 15,
   "metadata": {
    "colab": {
     "base_uri": "https://localhost:8080/",
     "height": 423
    },
    "id": "pOrndpbg7Fn9",
    "outputId": "c55d67f8-f411-4944-a477-d64c80bf7c3d"
   },
   "outputs": [
    {
     "data": {
      "text/html": [
       "<div>\n",
       "<style scoped>\n",
       "    .dataframe tbody tr th:only-of-type {\n",
       "        vertical-align: middle;\n",
       "    }\n",
       "\n",
       "    .dataframe tbody tr th {\n",
       "        vertical-align: top;\n",
       "    }\n",
       "\n",
       "    .dataframe thead th {\n",
       "        text-align: right;\n",
       "    }\n",
       "</style>\n",
       "<table border=\"1\" class=\"dataframe\">\n",
       "  <thead>\n",
       "    <tr style=\"text-align: right;\">\n",
       "      <th></th>\n",
       "      <th>text</th>\n",
       "    </tr>\n",
       "  </thead>\n",
       "  <tbody>\n",
       "    <tr>\n",
       "      <th>0</th>\n",
       "      <td>🌼 Alzheimers Dementia and Support ‘ADS’ is one...</td>\n",
       "    </tr>\n",
       "    <tr>\n",
       "      <th>1</th>\n",
       "      <td>Hello Everyone,\\nIt is that time of year again...</td>\n",
       "    </tr>\n",
       "    <tr>\n",
       "      <th>2</th>\n",
       "      <td>Slough Borough Council is seeking the views of...</td>\n",
       "    </tr>\n",
       "    <tr>\n",
       "      <th>3</th>\n",
       "      <td>Not heard from us in a while?\\n\\nWe are not ig...</td>\n",
       "    </tr>\n",
       "    <tr>\n",
       "      <th>4</th>\n",
       "      <td>Less than 3months to go...\\n\\nGet yourself rea...</td>\n",
       "    </tr>\n",
       "    <tr>\n",
       "      <th>...</th>\n",
       "      <td>...</td>\n",
       "    </tr>\n",
       "    <tr>\n",
       "      <th>520</th>\n",
       "      <td>I've been doing a lot of thinking about what i...</td>\n",
       "    </tr>\n",
       "    <tr>\n",
       "      <th>521</th>\n",
       "      <td>I needed this today, on Father’s Day.</td>\n",
       "    </tr>\n",
       "    <tr>\n",
       "      <th>522</th>\n",
       "      <td>Mom just told me she don't feel good. She tell...</td>\n",
       "    </tr>\n",
       "    <tr>\n",
       "      <th>523</th>\n",
       "      <td>Wishing you a rainbow of happiness and good ch...</td>\n",
       "    </tr>\n",
       "    <tr>\n",
       "      <th>524</th>\n",
       "      <td>The Red Arrows flying over Maidenhead after th...</td>\n",
       "    </tr>\n",
       "  </tbody>\n",
       "</table>\n",
       "<p>525 rows × 1 columns</p>\n",
       "</div>"
      ],
      "text/plain": [
       "                                                  text\n",
       "0    🌼 Alzheimers Dementia and Support ‘ADS’ is one...\n",
       "1    Hello Everyone,\\nIt is that time of year again...\n",
       "2    Slough Borough Council is seeking the views of...\n",
       "3    Not heard from us in a while?\\n\\nWe are not ig...\n",
       "4    Less than 3months to go...\\n\\nGet yourself rea...\n",
       "..                                                 ...\n",
       "520  I've been doing a lot of thinking about what i...\n",
       "521              I needed this today, on Father’s Day.\n",
       "522  Mom just told me she don't feel good. She tell...\n",
       "523  Wishing you a rainbow of happiness and good ch...\n",
       "524  The Red Arrows flying over Maidenhead after th...\n",
       "\n",
       "[525 rows x 1 columns]"
      ]
     },
     "execution_count": 15,
     "metadata": {},
     "output_type": "execute_result"
    }
   ],
   "source": [
    "df"
   ]
  },
  {
   "cell_type": "code",
   "execution_count": 16,
   "metadata": {
    "id": "8-XcQaAU8Y4U"
   },
   "outputs": [
    {
     "data": {
      "text/plain": [
       "0      🌼 Alzheimers Dementia and Support ‘ADS’ is one...\n",
       "1      Hello Everyone,\\nIt is that time of year again...\n",
       "2      Slough Borough Council is seeking the views of...\n",
       "3      Not heard from us in a while?\\n\\nWe are not ig...\n",
       "4      Less than 3months to go...\\n\\nGet yourself rea...\n",
       "                             ...                        \n",
       "520    I've been doing a lot of thinking about what i...\n",
       "521                I needed this today, on Father’s Day.\n",
       "522    Mom just told me she don't feel good. She tell...\n",
       "523    Wishing you a rainbow of happiness and good ch...\n",
       "524    The Red Arrows flying over Maidenhead after th...\n",
       "Name: text, Length: 525, dtype: object"
      ]
     },
     "execution_count": 16,
     "metadata": {},
     "output_type": "execute_result"
    }
   ],
   "source": [
    "df['text']"
   ]
  },
  {
   "cell_type": "code",
   "execution_count": null,
   "metadata": {},
   "outputs": [],
   "source": []
  }
 ],
 "metadata": {
  "colab": {
   "name": "Word Embedding.ipynb",
   "provenance": []
  },
  "kernelspec": {
   "display_name": "Python 3",
   "language": "python",
   "name": "python3"
  },
  "language_info": {
   "codemirror_mode": {
    "name": "ipython",
    "version": 3
   },
   "file_extension": ".py",
   "mimetype": "text/x-python",
   "name": "python",
   "nbconvert_exporter": "python",
   "pygments_lexer": "ipython3",
   "version": "3.8.8"
  }
 },
 "nbformat": 4,
 "nbformat_minor": 1
}
